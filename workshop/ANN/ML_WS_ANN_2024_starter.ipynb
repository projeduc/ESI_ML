{
 "cells": [
  {
   "cell_type": "markdown",
   "id": "12eabd08",
   "metadata": {},
   "source": [
    "# Workshop 03 : Advanced neural networks"
   ]
  },
  {
   "cell_type": "code",
   "execution_count": 1,
   "id": "4891c860",
   "metadata": {},
   "outputs": [],
   "source": [
    "import os\n",
    "import re\n",
    "import math\n",
    "from pathlib import Path"
   ]
  },
  {
   "cell_type": "code",
   "execution_count": 2,
   "id": "e8ca9934",
   "metadata": {},
   "outputs": [],
   "source": [
    "import numpy as np\n",
    "import pandas as pd "
   ]
  },
  {
   "cell_type": "code",
   "execution_count": 3,
   "id": "8e4052f1",
   "metadata": {},
   "outputs": [],
   "source": [
    "import matplotlib.pyplot as plt \n",
    "import matplotlib.image  as mpimg\n",
    "from   matplotlib        import colors\n",
    "\n",
    "%matplotlib inline"
   ]
  },
  {
   "cell_type": "code",
   "execution_count": 4,
   "id": "1f3d10cd",
   "metadata": {},
   "outputs": [
    {
     "name": "stderr",
     "output_type": "stream",
     "text": [
      "2024-05-29 01:02:07.676640: I tensorflow/core/util/port.cc:113] oneDNN custom operations are on. You may see slightly different numerical results due to floating-point round-off errors from different computation orders. To turn them off, set the environment variable `TF_ENABLE_ONEDNN_OPTS=0`.\n",
      "2024-05-29 01:02:07.705289: I tensorflow/core/platform/cpu_feature_guard.cc:210] This TensorFlow binary is optimized to use available CPU instructions in performance-critical operations.\n",
      "To enable the following instructions: AVX2 AVX_VNNI FMA, in other operations, rebuild TensorFlow with the appropriate compiler flags.\n",
      "2024-05-29 01:02:08.179749: W tensorflow/compiler/tf2tensorrt/utils/py_utils.cc:38] TF-TRT Warning: Could not find TensorRT\n"
     ]
    },
    {
     "data": {
      "text/plain": [
       "'2.16.1'"
      ]
     },
     "execution_count": 4,
     "metadata": {},
     "output_type": "execute_result"
    }
   ],
   "source": [
    "import tensorflow as tf\n",
    "from tensorflow import keras\n",
    "from tensorflow.keras.layers import Input, Dense, Lambda, Flatten, Reshape, Dropout\n",
    "from tensorflow.keras.layers import Conv2D, MaxPool2D, AvgPool2D, Dropout, UpSampling2D\n",
    "from tensorflow.keras.models import Sequential, Model\n",
    "\n",
    "tf.__version__"
   ]
  },
  {
   "cell_type": "markdown",
   "id": "3ca91572",
   "metadata": {},
   "source": [
    "## Pre-processing"
   ]
  },
  {
   "cell_type": "code",
   "execution_count": 5,
   "id": "14ee7449",
   "metadata": {},
   "outputs": [
    {
     "data": {
      "text/plain": [
       "array([[[255, 200, 100],\n",
       "        [255, 200, 100],\n",
       "        [255, 255, 255]],\n",
       "\n",
       "       [[255, 200, 100],\n",
       "        [255, 255, 255],\n",
       "        [255, 200, 100]]])"
      ]
     },
     "execution_count": 5,
     "metadata": {},
     "output_type": "execute_result"
    }
   ],
   "source": [
    "# When reading the PNG image with 3 channels,\n",
    "# transparent parts are transformed into black\n",
    "# However, normally they must be white\n",
    "# So I assumed that the transparent part is encoded as (0, 0, 0, 0)\n",
    "# In this case, I transform it to (255, 255, 255)\n",
    "def rgb_to_rgba(img):\n",
    "    h, w, c = img.shape\n",
    "    if c != 4:\n",
    "        return img\n",
    "    \n",
    "    resh_img = img.reshape([-1, c])\n",
    "    new_img = []\n",
    "    \n",
    "    for i in range(len(resh_img)):\n",
    "        l = resh_img[i, :]\n",
    "        if l[3] == 0:\n",
    "            new_img.append([255, 255, 255])\n",
    "        else:\n",
    "            new_img.append(l[:-1])\n",
    "    return np.array(new_img).reshape([h, w, 3])\n",
    "    \n",
    "rgb_to_rgba(np.array([\n",
    "    [[255, 200, 100, 255], [255, 200, 100, 255], [255, 200, 100, 0]],\n",
    "    [[255, 200, 100, 255], [0, 0, 0, 0], [255, 200, 100, 200]]\n",
    "]))"
   ]
  },
  {
   "cell_type": "code",
   "execution_count": 6,
   "id": "2ce2631c",
   "metadata": {},
   "outputs": [
    {
     "name": "stdout",
     "output_type": "stream",
     "text": [
      "All functions have been defined\n"
     ]
    }
   ],
   "source": [
    "DATASET_LOC = 'pokemon/'\n",
    "\n",
    "types_df = pd.read_csv(DATASET_LOC + 'pokemon.csv')\n",
    "types_df = types_df.drop(['Type2'], axis=1)\n",
    "\n",
    "def generate_dataset(ext='*.png'):\n",
    "    d = DATASET_LOC + 'images'\n",
    "    path = Path(d)\n",
    "    files = list(path.glob(ext))\n",
    "    names = [os.path.split(f)[1] for f in files ]\n",
    "    image_df = pd.concat([pd.Series(names, name='Name'), pd.Series(files, name='path').astype(str)], axis=1)\n",
    "    image_df['Name'] = image_df['Name'].apply(lambda x: re.sub(r'\\.\\w+$', '', x))\n",
    "    \n",
    "    df = image_df.merge(types_df, on='Name')\n",
    "    \n",
    "    imgs = []\n",
    "    for index in range(df.shape[0]):\n",
    "        img = tf.io.decode_image(tf.io.read_file(df['path'][index]), channels=0)\n",
    "        img = rgb_to_rgba(img.numpy())\n",
    "        imgs.append(img)\n",
    "#         imgs.append(mpimg.imread(df['path'][index]))\n",
    "    \n",
    "    return np.array(imgs), df['Type1'].values\n",
    "\n",
    "def show_images(imgs, y, n):\n",
    "    plt.figure(figsize=(20, 4))\n",
    "    for i in range(n):\n",
    "        # display original\n",
    "        ax = plt.subplot(1, n, i + 1)\n",
    "        plt.imshow(imgs[i]) # recontruct the matrix\n",
    "        plt.gray()\n",
    "        plt.title(\"T: \" + str(y[i]))\n",
    "        ax.get_xaxis().set_visible(False)\n",
    "        ax.get_yaxis().set_visible(False)\n",
    "    plt.show()\n",
    "    \n",
    "def classify_images(imgs, cls, cls_mdl, n):\n",
    "    plt.figure(figsize=(20, 4))\n",
    "    Y_pred = cls_mdl.predict(imgs[0:n])\n",
    "    for i in range(n):\n",
    "        # display original\n",
    "        ax = plt.subplot(1, n, i + 1)\n",
    "        plt.imshow(imgs[i]) # recontruct the matrix\n",
    "        plt.gray()\n",
    "        plt.title(\"T: \" + str(cls[i]) + ', P: ' + str(Y_pred[i]))\n",
    "        ax.get_xaxis().set_visible(False)\n",
    "        ax.get_yaxis().set_visible(False)\n",
    "    plt.show()\n",
    "    \n",
    "print('All functions have been defined')"
   ]
  },
  {
   "cell_type": "code",
   "execution_count": 7,
   "id": "2dea1134",
   "metadata": {},
   "outputs": [
    {
     "name": "stderr",
     "output_type": "stream",
     "text": [
      "2024-05-29 01:02:08.573283: I external/local_xla/xla/stream_executor/cuda/cuda_executor.cc:998] successful NUMA node read from SysFS had negative value (-1), but there must be at least one NUMA node, so returning NUMA node zero. See more at https://github.com/torvalds/linux/blob/v6.0/Documentation/ABI/testing/sysfs-bus-pci#L344-L355\n",
      "2024-05-29 01:02:08.573549: W tensorflow/core/common_runtime/gpu/gpu_device.cc:2251] Cannot dlopen some GPU libraries. Please make sure the missing libraries mentioned above are installed properly if you would like to use GPU. Follow the guide at https://www.tensorflow.org/install/gpu for how to download and setup the required libraries for your platform.\n",
      "Skipping registering GPU devices...\n"
     ]
    },
    {
     "name": "stdout",
     "output_type": "stream",
     "text": [
      "(809, 120, 120, 3) (809,)\n"
     ]
    },
    {
     "data": {
      "image/png": "[encoded data removed]",
      "text/plain": [
       "<Figure size 2000x400 with 10 Axes>"
      ]
     },
     "metadata": {},
     "output_type": "display_data"
    }
   ],
   "source": [
    "# Dataset\n",
    "X, Y = generate_dataset()\n",
    "\n",
    "X = X / 255 # normalizing pixls\n",
    "\n",
    "\n",
    "\n",
    "# 809 images of 120X120 pixels, each eencoded using 3 chanels \n",
    "print(X.shape, Y.shape)\n",
    "\n",
    "show_images(X, Y, 10)"
   ]
  },
  {
   "cell_type": "code",
   "execution_count": 8,
   "id": "672ee2cc",
   "metadata": {},
   "outputs": [
    {
     "data": {
      "text/plain": [
       "((567, 120, 120, 3), (242, 120, 120, 3))"
      ]
     },
     "execution_count": 8,
     "metadata": {},
     "output_type": "execute_result"
    }
   ],
   "source": [
    "# train dataset\n",
    "X_train, Y_train = X[:567, :, :, :], Y[:567]\n",
    "\n",
    "# test dataset\n",
    "X_test, Y_test = X[567:, :, :, :], Y[567:]\n",
    " \n",
    "X_train.shape, X_test.shape"
   ]
  },
  {
   "cell_type": "code",
   "execution_count": 9,
   "id": "e67dd2ae",
   "metadata": {},
   "outputs": [
    {
     "data": {
      "text/plain": [
       "(array([ 0,  1,  2,  3,  4,  5,  6,  7,  8,  9, 10, 11, 12, 13, 14, 15, 16,\n",
       "        17]),\n",
       " array([ 0,  1,  2,  3,  4,  5,  6,  7,  8,  9, 10, 11, 12, 13, 14, 15, 16,\n",
       "        17]))"
      ]
     },
     "execution_count": 9,
     "metadata": {},
     "output_type": "execute_result"
    }
   ],
   "source": [
    "from sklearn.preprocessing import LabelEncoder\n",
    "\n",
    "pokemon_type_enc = LabelEncoder()\n",
    "\n",
    "Y_train = pokemon_type_enc.fit_transform(Y_train)\n",
    "Y_test = pokemon_type_enc.transform(Y_test)\n",
    "\n",
    "cls_len = len(np.unique(Y_train))\n",
    "\n",
    "Y_train_onehot = tf.keras.utils.to_categorical(Y_train, cls_len)\n",
    "Y_test_onehot = tf.keras.utils.to_categorical(Y_test, cls_len)\n",
    "\n",
    "\n",
    "np.unique(Y_train), np.unique(Y_test)"
   ]
  },
  {
   "cell_type": "markdown",
   "id": "a16303ef",
   "metadata": {},
   "source": [
    "## 1. Clustering"
   ]
  },
  {
   "cell_type": "code",
   "execution_count": null,
   "id": "b36bff90",
   "metadata": {},
   "outputs": [],
   "source": []
  },
  {
   "cell_type": "markdown",
   "id": "95824c70",
   "metadata": {},
   "source": [
    "### 1.1. MLP-based auto-encoder"
   ]
  },
  {
   "cell_type": "code",
   "execution_count": null,
   "id": "ed3807d8",
   "metadata": {},
   "outputs": [],
   "source": []
  },
  {
   "cell_type": "markdown",
   "id": "65a95b70",
   "metadata": {},
   "source": [
    "### 1.2. CNN-based auto-encoder"
   ]
  },
  {
   "cell_type": "code",
   "execution_count": null,
   "id": "64086d2a",
   "metadata": {},
   "outputs": [],
   "source": []
  },
  {
   "cell_type": "markdown",
   "id": "d68a2e58",
   "metadata": {},
   "source": [
    "## 2. Classification\n",
    "\n",
    "### 2.1. CNN-based classifier"
   ]
  },
  {
   "cell_type": "code",
   "execution_count": null,
   "id": "0a2c6e9e",
   "metadata": {},
   "outputs": [],
   "source": []
  },
  {
   "cell_type": "markdown",
   "id": "3ef07243",
   "metadata": {},
   "source": [
    "### 2.2. Clustering-based classifier"
   ]
  },
  {
   "cell_type": "code",
   "execution_count": null,
   "id": "c7aad180",
   "metadata": {},
   "outputs": [],
   "source": []
  },
  {
   "cell_type": "markdown",
   "id": "e7ffd538",
   "metadata": {},
   "source": [
    "## 3. Generation\n",
    "\n",
    "### 3.1. Variational auto-encoder"
   ]
  },
  {
   "cell_type": "code",
   "execution_count": null,
   "id": "e7a63ab3",
   "metadata": {},
   "outputs": [],
   "source": []
  },
  {
   "cell_type": "markdown",
   "id": "8f857677",
   "metadata": {},
   "source": [
    "### 3.2. GAN"
   ]
  },
  {
   "cell_type": "code",
   "execution_count": null,
   "id": "389be86f",
   "metadata": {},
   "outputs": [],
   "source": []
  }
 ],
 "metadata": {
  "kernelspec": {
   "display_name": "Python 3 (ipykernel)",
   "language": "python",
   "name": "python3"
  },
  "language_info": {
   "codemirror_mode": {
    "name": "ipython",
    "version": 3
   },
   "file_extension": ".py",
   "mimetype": "text/x-python",
   "name": "python",
   "nbconvert_exporter": "python",
   "pygments_lexer": "ipython3",
   "version": "3.10.12"
  }
 },
 "nbformat": 4,
 "nbformat_minor": 5
}
