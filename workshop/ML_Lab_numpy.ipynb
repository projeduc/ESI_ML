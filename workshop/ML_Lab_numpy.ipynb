{
 "cells": [
  {
   "cell_type": "markdown",
   "id": "79ef68c7",
   "metadata": {},
   "source": [
    "# Lab : Outils (Numpy)"
   ]
  },
  {
   "cell_type": "code",
   "execution_count": 1,
   "id": "3eb92ed8",
   "metadata": {},
   "outputs": [],
   "source": [
    "import numpy as np"
   ]
  },
  {
   "cell_type": "markdown",
   "id": "dce9f01f",
   "metadata": {},
   "source": [
    "## I. Représentation des interactions"
   ]
  },
  {
   "cell_type": "code",
   "execution_count": 2,
   "id": "d0786016",
   "metadata": {},
   "outputs": [
    {
     "data": {
      "text/plain": [
       "array([[1, 5, 5, 0, 3],\n",
       "       [2, 0, 5, 0, 3],\n",
       "       [0, 0, 0, 0, 0],\n",
       "       [2, 0, 0, 4, 0],\n",
       "       [0, 4, 2, 0, 0]])"
      ]
     },
     "execution_count": 2,
     "metadata": {},
     "output_type": "execute_result"
    }
   ],
   "source": [
    "Reply = np.array([\n",
    "    [1, 5, 5, 0, 3],\n",
    "    [2, 0, 5, 0, 3],\n",
    "    [0, 0, 0, 0, 0],\n",
    "    [2, 0, 0, 4, 0],\n",
    "    [0, 4, 2, 0, 0]\n",
    "])\n",
    "\n",
    "Reply"
   ]
  },
  {
   "cell_type": "code",
   "execution_count": 3,
   "id": "1baa5c51",
   "metadata": {},
   "outputs": [
    {
     "data": {
      "text/plain": [
       "array([[0, 2, 4, 0, 0],\n",
       "       [0, 0, 0, 0, 0],\n",
       "       [0, 0, 0, 0, 0],\n",
       "       [0, 0, 0, 4, 3],\n",
       "       [0, 2, 5, 0, 0]])"
      ]
     },
     "execution_count": 3,
     "metadata": {},
     "output_type": "execute_result"
    }
   ],
   "source": [
    "Retweet = np.array([\n",
    "    [0, 2, 4, 0, 0],\n",
    "    [0, 0, 0, 0, 0],\n",
    "    [0, 0, 0, 0, 0],\n",
    "    [0, 0, 0, 4, 3],\n",
    "    [0, 2, 5, 0, 0]\n",
    "])\n",
    "\n",
    "Retweet"
   ]
  },
  {
   "cell_type": "code",
   "execution_count": 4,
   "id": "4e651352",
   "metadata": {},
   "outputs": [
    {
     "data": {
      "text/plain": [
       "array([[2, 5, 1, 0, 3],\n",
       "       [0, 0, 0, 0, 0],\n",
       "       [0, 5, 0, 3, 3],\n",
       "       [1, 0, 0, 4, 1],\n",
       "       [0, 0, 9, 0, 0]])"
      ]
     },
     "execution_count": 4,
     "metadata": {},
     "output_type": "execute_result"
    }
   ],
   "source": [
    "Like = np.array([\n",
    "    [2, 5, 1, 0, 3],\n",
    "    [0, 0, 0, 0, 0],\n",
    "    [0, 5, 0, 3, 3],\n",
    "    [1, 0, 0, 4, 1],\n",
    "    [0, 0, 9, 0, 0]\n",
    "])\n",
    "\n",
    "Like"
   ]
  },
  {
   "cell_type": "code",
   "execution_count": 5,
   "id": "dd2fac28",
   "metadata": {},
   "outputs": [
    {
     "data": {
      "text/plain": [
       "array([ 2,  5, 10,  4,  3])"
      ]
     },
     "execution_count": 5,
     "metadata": {},
     "output_type": "execute_result"
    }
   ],
   "source": [
    "Post = np.array([2, 5, 10, 4, 3])\n",
    "\n",
    "Post"
   ]
  },
  {
   "cell_type": "markdown",
   "id": "f8685051",
   "metadata": {},
   "source": [
    "## II. Statistiques d’engagement"
   ]
  },
  {
   "cell_type": "code",
   "execution_count": 6,
   "id": "cc16f29f",
   "metadata": {},
   "outputs": [
    {
     "data": {
      "text/plain": [
       "0"
      ]
     },
     "execution_count": 6,
     "metadata": {},
     "output_type": "execute_result"
    }
   ],
   "source": [
    "# (01) Trouver l'utilisateur qui répond (Reply) plus que les autres\n",
    "reply_out = Reply.sum(axis=1)\n",
    "\n",
    "reply_out.argmax()"
   ]
  },
  {
   "cell_type": "code",
   "execution_count": 7,
   "id": "0013f578",
   "metadata": {},
   "outputs": [
    {
     "data": {
      "text/plain": [
       "3"
      ]
     },
     "execution_count": 7,
     "metadata": {},
     "output_type": "execute_result"
    }
   ],
   "source": [
    "# (02) Trouver l'utilisateur qui partage (Retweet) plus que les autres\n",
    "retweet_out = Retweet.sum(axis=1)\n",
    "\n",
    "retweet_out.argmax()"
   ]
  },
  {
   "cell_type": "code",
   "execution_count": 8,
   "id": "3ad26f5d",
   "metadata": {},
   "outputs": [
    {
     "data": {
      "text/plain": [
       "array([False, False,  True, False, False])"
      ]
     },
     "execution_count": 8,
     "metadata": {},
     "output_type": "execute_result"
    }
   ],
   "source": [
    "# (03) Trouver les utilisateurs qui ne répondent pas (Reply) et qui ne partagent pas (Retweet)\n",
    "reply_retweet_out = reply_out + retweet_out\n",
    "\n",
    "reply_retweet_out == 0"
   ]
  },
  {
   "cell_type": "code",
   "execution_count": 9,
   "id": "a9ec17d8",
   "metadata": {},
   "outputs": [
    {
     "data": {
      "text/plain": [
       "array([[1., 0., 0., 0., 0.],\n",
       "       [0., 1., 0., 0., 0.],\n",
       "       [0., 0., 1., 0., 0.],\n",
       "       [0., 0., 0., 1., 0.],\n",
       "       [0., 0., 0., 0., 1.]])"
      ]
     },
     "execution_count": 9,
     "metadata": {},
     "output_type": "execute_result"
    }
   ],
   "source": [
    "# (04-a) Créer une matrice diagonale en utilisant la première dimention de la matrice des Likes\n",
    "\n",
    "I = np.eye(Like.shape[0])\n",
    "\n",
    "I"
   ]
  },
  {
   "cell_type": "code",
   "execution_count": 10,
   "id": "069caf4f",
   "metadata": {},
   "outputs": [
    {
     "data": {
      "text/plain": [
       "array([2., 0., 0., 4., 0.])"
      ]
     },
     "execution_count": 10,
     "metadata": {},
     "output_type": "execute_result"
    }
   ],
   "source": [
    "# (04-b) Afficher le nombre des Likes que chaque utilisateur fait pour ses propres tweets\n",
    "\n",
    "nbr_self_likes = (I * Like).sum(axis=1)\n",
    "\n",
    "nbr_self_likes"
   ]
  },
  {
   "cell_type": "code",
   "execution_count": 11,
   "id": "e850ad7b",
   "metadata": {},
   "outputs": [
    {
     "data": {
      "text/plain": [
       "array([ 9.,  0., 11.,  2.,  9.])"
      ]
     },
     "execution_count": 11,
     "metadata": {},
     "output_type": "execute_result"
    }
   ],
   "source": [
    "# (05) Afficher le nombre des Likes que chaque utilisateur fait pour les tweets autre que les tien\n",
    "\n",
    "like_out = Like.sum(axis=1)\n",
    "\n",
    "nbr_notself_likes = like_out - nbr_self_likes\n",
    "\n",
    "nbr_notself_likes"
   ]
  },
  {
   "cell_type": "code",
   "execution_count": 12,
   "id": "43bb1baa",
   "metadata": {},
   "outputs": [
    {
     "data": {
      "text/plain": [
       "array([False, False, False,  True, False])"
      ]
     },
     "execution_count": 12,
     "metadata": {},
     "output_type": "execute_result"
    }
   ],
   "source": [
    "# (06) Trouver les utilisateurs qui aiment leurs propres tweets plus qu'ils aiment les tweets des autres\n",
    "\n",
    "like_more_self = nbr_notself_likes <  nbr_self_likes\n",
    "\n",
    "like_more_self"
   ]
  },
  {
   "cell_type": "code",
   "execution_count": 13,
   "id": "4809c340",
   "metadata": {},
   "outputs": [
    {
     "data": {
      "text/plain": [
       "1"
      ]
     },
     "execution_count": 13,
     "metadata": {},
     "output_type": "execute_result"
    }
   ],
   "source": [
    "# (07) Calculer leur nombre\n",
    "\n",
    "like_more_self.astype(int).sum()"
   ]
  },
  {
   "cell_type": "code",
   "execution_count": 14,
   "id": "8f245d7e",
   "metadata": {},
   "outputs": [
    {
     "data": {
      "text/plain": [
       "array([31, 10, 11, 19, 22])"
      ]
     },
     "execution_count": 14,
     "metadata": {},
     "output_type": "execute_result"
    }
   ],
   "source": [
    "# (08) Afficher le nombre des interactions que chaque utilisateur a fait\n",
    "\n",
    "reply_retweet_out + like_out"
   ]
  },
  {
   "cell_type": "markdown",
   "id": "a9c0ec41",
   "metadata": {},
   "source": [
    "## III. Statistiques sur les interactions"
   ]
  },
  {
   "cell_type": "code",
   "execution_count": 15,
   "id": "f87aef33",
   "metadata": {},
   "outputs": [
    {
     "data": {
      "text/plain": [
       "array([2, 5, 9, 4, 3])"
      ]
     },
     "execution_count": 15,
     "metadata": {},
     "output_type": "execute_result"
    }
   ],
   "source": [
    "# (01) Afficher le max des Likes que chaque utilisateur a reçu\n",
    "\n",
    "max_likes_in = Like.max(axis=0)\n",
    "\n",
    "max_likes_in"
   ]
  },
  {
   "cell_type": "code",
   "execution_count": 16,
   "id": "b32f983a",
   "metadata": {},
   "outputs": [
    {
     "data": {
      "text/plain": [
       "array([ True,  True, False,  True,  True])"
      ]
     },
     "execution_count": 16,
     "metadata": {},
     "output_type": "execute_result"
    }
   ],
   "source": [
    "# (02) Trouver les utilisateurs qui ont des likes pour tous leurs tweets au moins par une personne\n",
    "\n",
    "max_likes_in == Post"
   ]
  },
  {
   "cell_type": "code",
   "execution_count": 17,
   "id": "199edd7f",
   "metadata": {},
   "outputs": [
    {
     "data": {
      "text/plain": [
       "array([3, 3, 3, 2, 4])"
      ]
     },
     "execution_count": 17,
     "metadata": {},
     "output_type": "execute_result"
    }
   ],
   "source": [
    "# (03) calculer le nombre des arcs entrants (ayant au moins une interaction)\n",
    "\n",
    "in_arcs = ((Reply + Retweet + Like) > 0).astype(int).sum(axis=0)\n",
    "\n",
    "in_arcs"
   ]
  },
  {
   "cell_type": "code",
   "execution_count": 18,
   "id": "5b40f86a",
   "metadata": {},
   "outputs": [
    {
     "data": {
      "text/plain": [
       "array([4, 3, 3, 3, 2])"
      ]
     },
     "execution_count": 18,
     "metadata": {},
     "output_type": "execute_result"
    }
   ],
   "source": [
    "# (04) calculer le nombre des arcs sortants (qui ont fait au moins une interaction)\n",
    "out_arcs = ((Reply + Retweet + Like) > 0).astype(int).sum(axis=1)\n",
    "\n",
    "out_arcs"
   ]
  },
  {
   "cell_type": "code",
   "execution_count": 19,
   "id": "83d5408d",
   "metadata": {},
   "outputs": [
    {
     "data": {
      "text/plain": [
       "array([False,  True,  True, False, False])"
      ]
     },
     "execution_count": 19,
     "metadata": {},
     "output_type": "execute_result"
    }
   ],
   "source": [
    "# (05) Trouver les neouds où le nombre des arcs entrants est égale au nombre de ceux sortants\n",
    "\n",
    "in_more_out = in_arcs == out_arcs\n",
    "\n",
    "in_more_out"
   ]
  },
  {
   "cell_type": "code",
   "execution_count": 20,
   "id": "2b0ea405",
   "metadata": {},
   "outputs": [
    {
     "data": {
      "text/plain": [
       "array([[0, 0],\n",
       "       [5, 0]])"
      ]
     },
     "execution_count": 20,
     "metadata": {},
     "output_type": "execute_result"
    }
   ],
   "source": [
    "# (06) Afficher les Likes qu'ils ont fait entre eux\n",
    "\n",
    "Like[:, in_more_out][in_more_out, :]"
   ]
  },
  {
   "cell_type": "markdown",
   "id": "384e532c",
   "metadata": {},
   "source": [
    "## Popularité"
   ]
  },
  {
   "cell_type": "code",
   "execution_count": 21,
   "id": "369fa1a9",
   "metadata": {},
   "outputs": [
    {
     "data": {
      "text/plain": [
       "array([[0., 1., 1., 1., 1.],\n",
       "       [1., 0., 1., 1., 1.],\n",
       "       [1., 1., 0., 1., 1.],\n",
       "       [1., 1., 1., 0., 1.],\n",
       "       [1., 1., 1., 1., 0.]])"
      ]
     },
     "execution_count": 21,
     "metadata": {},
     "output_type": "execute_result"
    }
   ],
   "source": [
    "I1 = 1 - I\n",
    "\n",
    "I1"
   ]
  },
  {
   "cell_type": "code",
   "execution_count": 27,
   "id": "5f6a4826",
   "metadata": {},
   "outputs": [
    {
     "data": {
      "text/plain": [
       "(array([[0., 5., 5., 0., 3.],\n",
       "        [2., 0., 5., 0., 3.],\n",
       "        [0., 0., 0., 0., 0.],\n",
       "        [2., 0., 0., 0., 0.],\n",
       "        [0., 4., 2., 0., 0.]]),\n",
       " array([[0., 0., 0., 0., 0.],\n",
       "        [0., 0., 0., 0., 0.],\n",
       "        [0., 0., 0., 0., 0.],\n",
       "        [0., 0., 0., 4., 0.],\n",
       "        [0., 0., 0., 0., 0.]]),\n",
       " array([[0., 5., 1., 0., 3.],\n",
       "        [0., 0., 0., 0., 0.],\n",
       "        [0., 5., 0., 3., 3.],\n",
       "        [1., 0., 0., 0., 1.],\n",
       "        [0., 0., 9., 0., 0.]]),\n",
       " array([[2., 0., 0., 0., 0.],\n",
       "        [0., 0., 0., 0., 0.],\n",
       "        [0., 0., 0., 0., 0.],\n",
       "        [0., 0., 0., 4., 0.],\n",
       "        [0., 0., 0., 0., 0.]]))"
      ]
     },
     "execution_count": 27,
     "metadata": {},
     "output_type": "execute_result"
    }
   ],
   "source": [
    "# On ne s'intéresse pas par les interactions réflexives qui sont représentées par la diagonale. \n",
    "\n",
    "Reply_others = Reply   * I1\n",
    "Retweet_self = Retweet * I\n",
    "Like_others  = Like    * I1\n",
    "Like_self    = Like    * I\n",
    "\n",
    "Reply_others, Retweet_self, Like_others, Like_self"
   ]
  },
  {
   "cell_type": "code",
   "execution_count": 28,
   "id": "d5a12752",
   "metadata": {},
   "outputs": [
    {
     "data": {
      "text/plain": [
       "array([[-0.5, -0. , -2.5, -0. , -0. ],\n",
       "       [-1. , -0. , -2.5, -0. , -1.5],\n",
       "       [-0. ,  0. , -0. ,  0. ,  0. ],\n",
       "       [-1. , -0. , -0. , -1. ,  0. ],\n",
       "       [-0. , -2. ,  0. , -0. , -0. ]])"
      ]
     },
     "execution_count": 28,
     "metadata": {},
     "output_type": "execute_result"
    }
   ],
   "source": [
    "# Pour chaque interaction, \n",
    "# si le nombre des Reply reçus d'une personne est plus que celui des Likes, \n",
    "# on le multiplie par (-0.5). \n",
    "\n",
    "Reply_score = np.where(Reply_others > Like_others, Reply_others * (-0.5), \n",
    "                       np.where(Reply_others == Like_others, Like_self * (-0.25), 0) )\n",
    "\n",
    "Reply_score"
   ]
  },
  {
   "cell_type": "code",
   "execution_count": 29,
   "id": "1dd364bc",
   "metadata": {},
   "outputs": [
    {
     "data": {
      "text/plain": [
       "array([[-0., -0., -0., -0., -0.],\n",
       "       [-0., -0., -0., -0., -0.],\n",
       "       [-0., -0., -0., -0., -0.],\n",
       "       [-0., -0., -0., -1., -0.],\n",
       "       [-0., -0., -0., -0., -0.]])"
      ]
     },
     "execution_count": 29,
     "metadata": {},
     "output_type": "execute_result"
    }
   ],
   "source": [
    "Retweet_score = Retweet_self * (-0.25)\n",
    "\n",
    "Retweet_score"
   ]
  },
  {
   "cell_type": "code",
   "execution_count": 30,
   "id": "a0d72d2f",
   "metadata": {},
   "outputs": [
    {
     "data": {
      "text/plain": [
       "array([[ 0. ,  7.5,  1. ,  0. ,  4.5],\n",
       "       [ 0. ,  0. ,  0. ,  0. ,  0. ],\n",
       "       [ 0. ,  7.5,  0. ,  4.5,  4.5],\n",
       "       [ 1. ,  0. ,  0. ,  0. ,  1. ],\n",
       "       [ 0. ,  0. , 13.5,  0. ,  0. ]])"
      ]
     },
     "execution_count": 30,
     "metadata": {},
     "output_type": "execute_result"
    }
   ],
   "source": [
    "# Pour chaque interaction, \n",
    "# si le nombre des Likes reçus d'une personne est plus que la moitié des tweets publiées, \n",
    "# on le multiplie par (1.5).\n",
    "\n",
    "Post_moitie = (Post/2) * np.ones(Like.shape)\n",
    "\n",
    "Like_score = np.where(Like_others > Post_moitie, Like_others * 1.5, Like_others)\n",
    "Like_score"
   ]
  },
  {
   "cell_type": "code",
   "execution_count": 33,
   "id": "6477cdd1",
   "metadata": {},
   "outputs": [
    {
     "data": {
      "text/plain": [
       "(array([-0.5, -0.4, -1. , -0.2, -0.3]),\n",
       " array([ 0. ,  0. ,  0. , -0.2,  0. ]),\n",
       " array([0.2, 3. , 2.9, 0.9, 2. ]))"
      ]
     },
     "execution_count": 33,
     "metadata": {},
     "output_type": "execute_result"
    }
   ],
   "source": [
    "Reply_score_avg   = Reply_score.mean(axis=0)\n",
    "Retweet_score_avg = Retweet_score.mean(axis=0)\n",
    "Like_score_avg    = Like_score.mean(axis=0)\n",
    "\n",
    "Reply_score_avg, Retweet_score_avg, Like_score_avg"
   ]
  },
  {
   "cell_type": "code",
   "execution_count": 34,
   "id": "d042eeca",
   "metadata": {},
   "outputs": [
    {
     "data": {
      "text/plain": [
       "array([-0.1       ,  0.86666667,  0.63333333,  0.16666667,  0.56666667])"
      ]
     },
     "execution_count": 34,
     "metadata": {},
     "output_type": "execute_result"
    }
   ],
   "source": [
    "Popularity = (Reply_score_avg + Retweet_score_avg + Like_score_avg)/3\n",
    "\n",
    "Popularity"
   ]
  },
  {
   "cell_type": "code",
   "execution_count": null,
   "id": "f51c9b14",
   "metadata": {},
   "outputs": [],
   "source": []
  }
 ],
 "metadata": {
  "kernelspec": {
   "display_name": "Python 3 (ipykernel)",
   "language": "python",
   "name": "python3"
  },
  "language_info": {
   "codemirror_mode": {
    "name": "ipython",
    "version": 3
   },
   "file_extension": ".py",
   "mimetype": "text/x-python",
   "name": "python",
   "nbconvert_exporter": "python",
   "pygments_lexer": "ipython3",
   "version": "3.10.6"
  }
 },
 "nbformat": 4,
 "nbformat_minor": 5
}
