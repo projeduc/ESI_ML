{
 "cells": [
  {
   "cell_type": "code",
   "execution_count": 1,
   "id": "3eb92ed8",
   "metadata": {},
   "outputs": [],
   "source": [
    "import numpy as np"
   ]
  },
  {
   "cell_type": "code",
   "execution_count": 2,
   "id": "d0786016",
   "metadata": {},
   "outputs": [
    {
     "data": {
      "text/plain": [
       "array([[1, 5, 5, 0, 3],\n",
       "       [2, 0, 5, 0, 3],\n",
       "       [0, 0, 0, 0, 0],\n",
       "       [2, 0, 0, 4, 0],\n",
       "       [0, 4, 2, 0, 0]])"
      ]
     },
     "execution_count": 2,
     "metadata": {},
     "output_type": "execute_result"
    }
   ],
   "source": [
    "Reply = np.array([\n",
    "    [1, 5, 5, 0, 3],\n",
    "    [2, 0, 5, 0, 3],\n",
    "    [0, 0, 0, 0, 0],\n",
    "    [2, 0, 0, 4, 0],\n",
    "    [0, 4, 2, 0, 0]\n",
    "])\n",
    "\n",
    "Reply"
   ]
  },
  {
   "cell_type": "code",
   "execution_count": 3,
   "id": "1baa5c51",
   "metadata": {},
   "outputs": [
    {
     "data": {
      "text/plain": [
       "array([[0, 2, 4, 0, 0],\n",
       "       [0, 0, 0, 0, 0],\n",
       "       [0, 0, 0, 0, 0],\n",
       "       [0, 0, 0, 4, 3],\n",
       "       [0, 2, 5, 0, 0]])"
      ]
     },
     "execution_count": 3,
     "metadata": {},
     "output_type": "execute_result"
    }
   ],
   "source": [
    "Retweet = np.array([\n",
    "    [0, 2, 4, 0, 0],\n",
    "    [0, 0, 0, 0, 0],\n",
    "    [0, 0, 0, 0, 0],\n",
    "    [0, 0, 0, 4, 3],\n",
    "    [0, 2, 5, 0, 0]\n",
    "])\n",
    "\n",
    "Retweet"
   ]
  },
  {
   "cell_type": "code",
   "execution_count": 4,
   "id": "4e651352",
   "metadata": {},
   "outputs": [
    {
     "data": {
      "text/plain": [
       "array([[2, 5, 1, 0, 3],\n",
       "       [0, 0, 0, 0, 0],\n",
       "       [0, 5, 0, 3, 3],\n",
       "       [1, 0, 0, 4, 1],\n",
       "       [0, 0, 9, 0, 0]])"
      ]
     },
     "execution_count": 4,
     "metadata": {},
     "output_type": "execute_result"
    }
   ],
   "source": [
    "Like = np.array([\n",
    "    [2, 5, 1, 0, 3],\n",
    "    [0, 0, 0, 0, 0],\n",
    "    [0, 5, 0, 3, 3],\n",
    "    [1, 0, 0, 4, 1],\n",
    "    [0, 0, 9, 0, 0]\n",
    "])\n",
    "\n",
    "Like"
   ]
  },
  {
   "cell_type": "code",
   "execution_count": 5,
   "id": "dd2fac28",
   "metadata": {},
   "outputs": [
    {
     "data": {
      "text/plain": [
       "array([ 2,  5, 10,  4,  3])"
      ]
     },
     "execution_count": 5,
     "metadata": {},
     "output_type": "execute_result"
    }
   ],
   "source": [
    "Post = np.array([2, 5, 10, 4, 3])\n",
    "\n",
    "Post"
   ]
  },
  {
   "cell_type": "markdown",
   "id": "7c6d3f18",
   "metadata": {},
   "source": [
    "# Engagement Statistics"
   ]
  },
  {
   "cell_type": "code",
   "execution_count": 6,
   "id": "cc16f29f",
   "metadata": {},
   "outputs": [
    {
     "data": {
      "text/plain": [
       "0"
      ]
     },
     "execution_count": 6,
     "metadata": {},
     "output_type": "execute_result"
    }
   ],
   "source": [
    "# 1. Find the user who replies more than others.\n",
    "reply_out = Reply.sum(axis=1)\n",
    "\n",
    "reply_out.argmax()"
   ]
  },
  {
   "cell_type": "code",
   "execution_count": 7,
   "id": "0013f578",
   "metadata": {},
   "outputs": [
    {
     "data": {
      "text/plain": [
       "array([False, False, False,  True,  True])"
      ]
     },
     "execution_count": 7,
     "metadata": {},
     "output_type": "execute_result"
    }
   ],
   "source": [
    "# 2. Find the user who retweets more than others.\n",
    "retweet_out = Retweet.sum(axis=1)\n",
    "\n",
    "retweet_out == retweet_out.max()"
   ]
  },
  {
   "cell_type": "code",
   "execution_count": 8,
   "id": "3ad26f5d",
   "metadata": {},
   "outputs": [
    {
     "data": {
      "text/plain": [
       "array([False, False,  True, False, False])"
      ]
     },
     "execution_count": 8,
     "metadata": {},
     "output_type": "execute_result"
    }
   ],
   "source": [
    "# 3. Find users who neither reply nor retweet.\n",
    "reply_retweet_out = reply_out + retweet_out\n",
    "\n",
    "reply_retweet_out == 0"
   ]
  },
  {
   "cell_type": "code",
   "execution_count": 9,
   "id": "a9ec17d8",
   "metadata": {},
   "outputs": [
    {
     "data": {
      "text/plain": [
       "array([2., 0., 0., 4., 0.])"
      ]
     },
     "execution_count": 9,
     "metadata": {},
     "output_type": "execute_result"
    }
   ],
   "source": [
    "# 4. Display the number of likes each user has given to their own tweets.\n",
    "\n",
    "# Create a diagonal matrix \n",
    "I = np.eye(Like.shape[0])\n",
    "\n",
    "nbr_self_likes = (I * Like).sum(axis=1)\n",
    "\n",
    "nbr_self_likes"
   ]
  },
  {
   "cell_type": "code",
   "execution_count": 10,
   "id": "e850ad7b",
   "metadata": {},
   "outputs": [
    {
     "data": {
      "text/plain": [
       "array([ 9.,  0., 11.,  2.,  9.])"
      ]
     },
     "execution_count": 10,
     "metadata": {},
     "output_type": "execute_result"
    }
   ],
   "source": [
    "# 5. Display the number of likes each user has given to tweets other than their own.\n",
    "\n",
    "like_out = Like.sum(axis=1)\n",
    "\n",
    "nbr_notself_likes = like_out - nbr_self_likes\n",
    "\n",
    "nbr_notself_likes"
   ]
  },
  {
   "cell_type": "code",
   "execution_count": 11,
   "id": "43bb1baa",
   "metadata": {},
   "outputs": [
    {
     "data": {
      "text/plain": [
       "array([False, False, False,  True, False])"
      ]
     },
     "execution_count": 11,
     "metadata": {},
     "output_type": "execute_result"
    }
   ],
   "source": [
    "# 6. Find users who like their own tweets more than they like others' tweets.\n",
    "\n",
    "like_more_self = nbr_notself_likes <  nbr_self_likes\n",
    "\n",
    "like_more_self"
   ]
  },
  {
   "cell_type": "code",
   "execution_count": 12,
   "id": "4809c340",
   "metadata": {},
   "outputs": [
    {
     "data": {
      "text/plain": [
       "1"
      ]
     },
     "execution_count": 12,
     "metadata": {},
     "output_type": "execute_result"
    }
   ],
   "source": [
    "# 7. Calculate their number.\n",
    "\n",
    "like_more_self.astype(int).sum()"
   ]
  },
  {
   "cell_type": "code",
   "execution_count": 13,
   "id": "8f245d7e",
   "metadata": {},
   "outputs": [
    {
     "data": {
      "text/plain": [
       "array([31, 10, 11, 19, 22])"
      ]
     },
     "execution_count": 13,
     "metadata": {},
     "output_type": "execute_result"
    }
   ],
   "source": [
    "# 8. Display the number of interactions each user has made.\n",
    "\n",
    "reply_retweet_out + like_out"
   ]
  },
  {
   "cell_type": "markdown",
   "id": "a9c0ec41",
   "metadata": {},
   "source": [
    "# Interaction Statistics"
   ]
  },
  {
   "cell_type": "code",
   "execution_count": 14,
   "id": "f87aef33",
   "metadata": {},
   "outputs": [
    {
     "data": {
      "text/plain": [
       "array([2, 5, 9, 4, 3])"
      ]
     },
     "execution_count": 14,
     "metadata": {},
     "output_type": "execute_result"
    }
   ],
   "source": [
    "# 1. Display the maximum number of likes each user has received (from users other than themselves).\n",
    "\n",
    "max_likes_in = Like.max(axis=0)\n",
    "\n",
    "max_likes_in"
   ]
  },
  {
   "cell_type": "code",
   "execution_count": 15,
   "id": "b32f983a",
   "metadata": {},
   "outputs": [
    {
     "data": {
      "text/plain": [
       "array([ True,  True, False,  True,  True])"
      ]
     },
     "execution_count": 15,
     "metadata": {},
     "output_type": "execute_result"
    }
   ],
   "source": [
    "# 2. Find users who have received likes for all their tweets by at least one person other than themselves.\n",
    "\n",
    "max_likes_in == Post"
   ]
  },
  {
   "cell_type": "code",
   "execution_count": 16,
   "id": "199edd7f",
   "metadata": {},
   "outputs": [
    {
     "data": {
      "text/plain": [
       "array([3, 3, 3, 2, 4])"
      ]
     },
     "execution_count": 16,
     "metadata": {},
     "output_type": "execute_result"
    }
   ],
   "source": [
    "# 3. Calculate the number of incoming edges (having at least one interaction).\n",
    "\n",
    "in_arcs = ((Reply + Retweet + Like) > 0).astype(int).sum(axis=0)\n",
    "\n",
    "in_arcs"
   ]
  },
  {
   "cell_type": "code",
   "execution_count": 17,
   "id": "5b40f86a",
   "metadata": {},
   "outputs": [
    {
     "data": {
      "text/plain": [
       "array([4, 3, 3, 3, 2])"
      ]
     },
     "execution_count": 17,
     "metadata": {},
     "output_type": "execute_result"
    }
   ],
   "source": [
    "# 4. Calculate the number of outgoing edges (having at least one interaction).\n",
    "out_arcs = ((Reply + Retweet + Like) > 0).astype(int).sum(axis=1)\n",
    "\n",
    "out_arcs"
   ]
  },
  {
   "cell_type": "code",
   "execution_count": 18,
   "id": "83d5408d",
   "metadata": {},
   "outputs": [
    {
     "data": {
      "text/plain": [
       "array([False,  True,  True, False, False])"
      ]
     },
     "execution_count": 18,
     "metadata": {},
     "output_type": "execute_result"
    }
   ],
   "source": [
    "# 5. Find nodes where the number of incoming edges is equal to the number of outgoing edges.\n",
    "\n",
    "in_more_out = in_arcs == out_arcs\n",
    "\n",
    "in_more_out"
   ]
  },
  {
   "cell_type": "code",
   "execution_count": 19,
   "id": "2b0ea405",
   "metadata": {},
   "outputs": [
    {
     "data": {
      "text/plain": [
       "array([[0, 0],\n",
       "       [5, 0]])"
      ]
     },
     "execution_count": 19,
     "metadata": {},
     "output_type": "execute_result"
    }
   ],
   "source": [
    "# 6. Display the likes they have given to each other.\n",
    "\n",
    "Like[:, in_more_out][in_more_out, :]"
   ]
  },
  {
   "cell_type": "markdown",
   "id": "384e532c",
   "metadata": {},
   "source": [
    "# Popularity"
   ]
  },
  {
   "cell_type": "code",
   "execution_count": 20,
   "id": "369fa1a9",
   "metadata": {},
   "outputs": [
    {
     "data": {
      "text/plain": [
       "array([[0., 1., 1., 1., 1.],\n",
       "       [1., 0., 1., 1., 1.],\n",
       "       [1., 1., 0., 1., 1.],\n",
       "       [1., 1., 1., 0., 1.],\n",
       "       [1., 1., 1., 1., 0.]])"
      ]
     },
     "execution_count": 20,
     "metadata": {},
     "output_type": "execute_result"
    }
   ],
   "source": [
    "I1 = 1 - I\n",
    "\n",
    "I1"
   ]
  },
  {
   "cell_type": "code",
   "execution_count": 21,
   "id": "5f6a4826",
   "metadata": {},
   "outputs": [
    {
     "data": {
      "text/plain": [
       "(array([[0., 5., 5., 0., 3.],\n",
       "        [2., 0., 5., 0., 3.],\n",
       "        [0., 0., 0., 0., 0.],\n",
       "        [2., 0., 0., 0., 0.],\n",
       "        [0., 4., 2., 0., 0.]]),\n",
       " array([[0., 0., 0., 0., 0.],\n",
       "        [0., 0., 0., 0., 0.],\n",
       "        [0., 0., 0., 0., 0.],\n",
       "        [0., 0., 0., 4., 0.],\n",
       "        [0., 0., 0., 0., 0.]]),\n",
       " array([[0., 5., 1., 0., 3.],\n",
       "        [0., 0., 0., 0., 0.],\n",
       "        [0., 5., 0., 3., 3.],\n",
       "        [1., 0., 0., 0., 1.],\n",
       "        [0., 0., 9., 0., 0.]]))"
      ]
     },
     "execution_count": 21,
     "metadata": {},
     "output_type": "execute_result"
    }
   ],
   "source": [
    "# We are not interested in reflexive interactions\n",
    "# unless for retweets, we are only interested in reflexive interactions\n",
    "\n",
    "Reply_nodiag = Reply * I1 # no diagonal\n",
    "Retweet_diag = Retweet * I # only diagonal\n",
    "Like_nodiag = Like * I1 # no diagonal\n",
    "\n",
    "Reply_nodiag, Retweet_diag, Like_nodiag"
   ]
  },
  {
   "cell_type": "code",
   "execution_count": 22,
   "id": "d5a12752",
   "metadata": {},
   "outputs": [
    {
     "data": {
      "text/plain": [
       "array([[ 0. ,  0. , -2.5,  0. ,  0. ],\n",
       "       [-1. ,  0. , -2.5,  0. , -1.5],\n",
       "       [ 0. ,  0. ,  0. ,  0. ,  0. ],\n",
       "       [-1. ,  0. ,  0. ,  0. ,  0. ],\n",
       "       [ 0. , -2. ,  2. ,  0. ,  0. ]])"
      ]
     },
     "execution_count": 22,
     "metadata": {},
     "output_type": "execute_result"
    }
   ],
   "source": [
    "# For each interaction, \n",
    "# if the number of Replies received from a person is more than their Likes, we multiply the number of Replies by (-0.5). \n",
    "# If it is equal, we multiply their own Likes by (-0.25). \n",
    "# Otherwise, it has no effect (0).\n",
    "\n",
    "Reply_score = np.where(Reply_nodiag > Like_nodiag, Reply_nodiag * (-0.5), np.where(Reply_nodiag == Like_nodiag, 0, Reply_nodiag) )\n",
    "\n",
    "Reply_score"
   ]
  },
  {
   "cell_type": "code",
   "execution_count": 23,
   "id": "7f1f4a4b",
   "metadata": {},
   "outputs": [
    {
     "data": {
      "text/plain": [
       "array([[-0., -0., -0., -0., -0.],\n",
       "       [-0., -0., -0., -0., -0.],\n",
       "       [-0., -0., -0., -0., -0.],\n",
       "       [-0., -0., -0., -1., -0.],\n",
       "       [-0., -0., -0., -0., -0.]])"
      ]
     },
     "execution_count": 23,
     "metadata": {},
     "output_type": "execute_result"
    }
   ],
   "source": [
    "# if someone retweets their own tweets, they will be penalized by (-0.25) for each retweet.\n",
    "\n",
    "Retweet_score = Retweet_diag * (-0.25)\n",
    "\n",
    "Retweet_score"
   ]
  },
  {
   "cell_type": "code",
   "execution_count": 24,
   "id": "a0d72d2f",
   "metadata": {},
   "outputs": [
    {
     "data": {
      "text/plain": [
       "array([[ 0. ,  7.5,  1. ,  0. ,  4.5],\n",
       "       [ 0. ,  0. ,  0. ,  0. ,  0. ],\n",
       "       [ 0. ,  7.5,  0. ,  4.5,  4.5],\n",
       "       [ 1. ,  0. ,  0. ,  0. ,  1. ],\n",
       "       [ 0. ,  0. , 13.5,  0. ,  0. ]])"
      ]
     },
     "execution_count": 24,
     "metadata": {},
     "output_type": "execute_result"
    }
   ],
   "source": [
    "# For each interaction, \n",
    "# if the number of Likes received from a person is greater than half of the tweets published, we multiply it by (1.5). \n",
    "# Otherwise, the score is the number of Likes.\n",
    "\n",
    "Post_half = Post/2\n",
    "Post_repeated = np.ones(Like.shape)\n",
    "Post_repeated = Post_repeated * Post_half\n",
    "\n",
    "\n",
    "Like_score = np.where(Like_nodiag > Post_repeated, Like_nodiag * 1.5, Like_nodiag)\n",
    "Like_score"
   ]
  },
  {
   "cell_type": "code",
   "execution_count": 25,
   "id": "6477cdd1",
   "metadata": {},
   "outputs": [
    {
     "data": {
      "text/plain": [
       "array([[ 0.        ,  2.5       , -0.5       ,  0.        ,  1.5       ],\n",
       "       [-0.33333333,  0.        , -0.83333333,  0.        , -0.5       ],\n",
       "       [ 0.        ,  2.5       ,  0.        ,  1.5       ,  1.5       ],\n",
       "       [ 0.        ,  0.        ,  0.        , -0.33333333,  0.33333333],\n",
       "       [ 0.        , -0.66666667,  5.16666667,  0.        ,  0.        ]])"
      ]
     },
     "execution_count": 25,
     "metadata": {},
     "output_type": "execute_result"
    }
   ],
   "source": [
    "# Calculate the popularity score for each user for each interaction which is the average of the received scores.\n",
    "\n",
    "detaild_popularity_score = (Reply_score + Retweet_score + Like_score)/3\n",
    "\n",
    "detaild_popularity_score"
   ]
  },
  {
   "cell_type": "code",
   "execution_count": 26,
   "id": "605a40f8",
   "metadata": {},
   "outputs": [
    {
     "data": {
      "text/plain": [
       "array([-0.06666667,  0.86666667,  0.76666667,  0.23333333,  0.56666667])"
      ]
     },
     "execution_count": 26,
     "metadata": {},
     "output_type": "execute_result"
    }
   ],
   "source": [
    "# Calculate the final score which is the average of the scores from different interactions.\n",
    "\n",
    "popularity_score = detaild_popularity_score.mean(axis=0)\n",
    "\n",
    "popularity_score"
   ]
  }
 ],
 "metadata": {
  "kernelspec": {
   "display_name": "ml",
   "language": "python",
   "name": "python3"
  },
  "language_info": {
   "codemirror_mode": {
    "name": "ipython",
    "version": 3
   },
   "file_extension": ".py",
   "mimetype": "text/x-python",
   "name": "python",
   "nbconvert_exporter": "python",
   "pygments_lexer": "ipython3",
   "version": "3.10.0"
  }
 },
 "nbformat": 4,
 "nbformat_minor": 5
}
