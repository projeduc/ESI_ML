{
 "cells": [
  {
   "cell_type": "markdown",
   "metadata": {},
   "source": [
    "# Tutoriel : Generative Adversarial Network (GAN)\n",
    "\n",
    "\n",
    "This tutoriel is based on this one : https://keras.io/examples/generative/conditional_gan/\n",
    "\n",
    "and this one https://www.tensorflow.org/tutorials/generative/dcgan \n"
   ]
  },
  {
   "cell_type": "code",
   "execution_count": 1,
   "metadata": {},
   "outputs": [],
   "source": [
    "import numpy as np\n",
    "import pandas as pd \n",
    "import matplotlib.pyplot as plt \n",
    "from matplotlib import colors\n",
    "%matplotlib inline"
   ]
  },
  {
   "cell_type": "code",
   "execution_count": 2,
   "metadata": {},
   "outputs": [
    {
     "name": "stderr",
     "output_type": "stream",
     "text": [
      "2022-05-27 23:40:13.113511: W tensorflow/stream_executor/platform/default/dso_loader.cc:64] Could not load dynamic library 'libcudart.so.11.0'; dlerror: libcudart.so.11.0: cannot open shared object file: No such file or directory\n",
      "2022-05-27 23:40:13.113545: I tensorflow/stream_executor/cuda/cudart_stub.cc:29] Ignore above cudart dlerror if you do not have a GPU set up on your machine.\n"
     ]
    }
   ],
   "source": [
    "#%load_ext tensorboard\n",
    "import tensorflow as tf\n",
    "from tensorflow import keras\n",
    "from tensorflow.keras.layers import Input, Conv2D, MaxPool2D, AvgPool2D, Flatten, Conv2DTranspose, BatchNormalization\n",
    "from tensorflow.keras.layers import Dense, Dropout, UpSampling2D, Reshape, GlobalMaxPooling2D, LeakyReLU\n",
    "from tensorflow.keras.models import Sequential, Model"
   ]
  },
  {
   "cell_type": "markdown",
   "metadata": {},
   "source": [
    "## I. Dataset"
   ]
  },
  {
   "cell_type": "code",
   "execution_count": 3,
   "metadata": {},
   "outputs": [
    {
     "data": {
      "image/png": "[encoded data removed]",
      "text/plain": [
       "<Figure size 1440x288 with 10 Axes>"
      ]
     },
     "metadata": {
      "needs_background": "light"
     },
     "output_type": "display_data"
    }
   ],
   "source": [
    "# Load MNIST dataset \n",
    "mnist = keras.datasets.mnist\n",
    "(x_train, y_train), (x_test, y_test) = mnist.load_data()\n",
    "\n",
    "# Normalizing the values (min-max normalization)\n",
    "x_train = x_train / 255.0\n",
    "\n",
    "x_train = x_train.reshape(-1, 28, 28, 1)\n",
    "\n",
    "n = 10  # how many digits we will display\n",
    "plt.figure(figsize=(20, 4))\n",
    "for i in range(n):\n",
    "    # display original\n",
    "    ax = plt.subplot(2, n, i + 1)\n",
    "    plt.imshow(x_train[i].reshape(28, 28)) # recontruct the matrix\n",
    "    plt.gray()\n",
    "    plt.title(\"N: \" + str(y_train[i]))\n",
    "    ax.get_xaxis().set_visible(False)\n",
    "    ax.get_yaxis().set_visible(False)\n",
    "plt.show()"
   ]
  },
  {
   "cell_type": "markdown",
   "metadata": {},
   "source": [
    "## II. Discriminator"
   ]
  },
  {
   "cell_type": "code",
   "execution_count": 4,
   "metadata": {},
   "outputs": [
    {
     "name": "stdout",
     "output_type": "stream",
     "text": [
      "Model: \"discriminator\"\n",
      "_________________________________________________________________\n",
      " Layer (type)                Output Shape              Param #   \n",
      "=================================================================\n",
      " conv2d (Conv2D)             (None, 14, 14, 3)         30        \n",
      "                                                                 \n",
      " leaky_re_lu (LeakyReLU)     (None, 14, 14, 3)         0         \n",
      "                                                                 \n",
      " conv2d_1 (Conv2D)           (None, 14, 14, 2)         26        \n",
      "                                                                 \n",
      " leaky_re_lu_1 (LeakyReLU)   (None, 14, 14, 2)         0         \n",
      "                                                                 \n",
      " flatten (Flatten)           (None, 392)               0         \n",
      "                                                                 \n",
      " dense (Dense)               (None, 1)                 393       \n",
      "                                                                 \n",
      "=================================================================\n",
      "Total params: 449\n",
      "Trainable params: 449\n",
      "Non-trainable params: 0\n",
      "_________________________________________________________________\n"
     ]
    },
    {
     "name": "stderr",
     "output_type": "stream",
     "text": [
      "2022-05-27 23:40:15.598236: W tensorflow/stream_executor/platform/default/dso_loader.cc:64] Could not load dynamic library 'libcuda.so.1'; dlerror: libcuda.so.1: cannot open shared object file: No such file or directory\n",
      "2022-05-27 23:40:15.598302: W tensorflow/stream_executor/cuda/cuda_driver.cc:269] failed call to cuInit: UNKNOWN ERROR (303)\n",
      "2022-05-27 23:40:15.598335: I tensorflow/stream_executor/cuda/cuda_diagnostics.cc:156] kernel driver does not appear to be running on this host (kariminf-pc): /proc/driver/nvidia/version does not exist\n",
      "2022-05-27 23:40:15.598944: I tensorflow/core/platform/cpu_feature_guard.cc:193] This TensorFlow binary is optimized with oneAPI Deep Neural Network Library (oneDNN) to use the following CPU instructions in performance-critical operations:  AVX2 FMA\n",
      "To enable them in other operations, rebuild TensorFlow with the appropriate compiler flags.\n"
     ]
    }
   ],
   "source": [
    "discriminator = keras.Sequential(\n",
    "    [\n",
    "        Input((28, 28, 1)),\n",
    "        Conv2D(3, (3, 3), strides=(2, 2), padding=\"same\"),\n",
    "        LeakyReLU(alpha=0.2),\n",
    "#         Dropout(0.3),\n",
    "        Conv2D(2, (2, 2), strides=(1, 1), padding=\"same\"),\n",
    "        LeakyReLU(alpha=0.2),\n",
    "        Flatten(),\n",
    "        Dense(1, activation='sigmoid'),\n",
    "    ],\n",
    "    name=\"discriminator\",\n",
    ")\n",
    "\n",
    "discriminator.summary()"
   ]
  },
  {
   "cell_type": "markdown",
   "metadata": {},
   "source": [
    "## III. Generator"
   ]
  },
  {
   "cell_type": "code",
   "execution_count": 5,
   "metadata": {},
   "outputs": [
    {
     "name": "stdout",
     "output_type": "stream",
     "text": [
      "Model: \"generator\"\n",
      "_________________________________________________________________\n",
      " Layer (type)                Output Shape              Param #   \n",
      "=================================================================\n",
      " dense_1 (Dense)             (None, 100)               1100      \n",
      "                                                                 \n",
      " leaky_re_lu_2 (LeakyReLU)   (None, 100)               0         \n",
      "                                                                 \n",
      " reshape (Reshape)           (None, 5, 5, 4)           0         \n",
      "                                                                 \n",
      " conv2d_transpose (Conv2DTra  (None, 12, 12, 5)        325       \n",
      " nspose)                                                         \n",
      "                                                                 \n",
      " batch_normalization (BatchN  (None, 12, 12, 5)        20        \n",
      " ormalization)                                                   \n",
      "                                                                 \n",
      " leaky_re_lu_3 (LeakyReLU)   (None, 12, 12, 5)         0         \n",
      "                                                                 \n",
      " conv2d_transpose_1 (Conv2DT  (None, 26, 26, 5)        405       \n",
      " ranspose)                                                       \n",
      "                                                                 \n",
      " batch_normalization_1 (Batc  (None, 26, 26, 5)        20        \n",
      " hNormalization)                                                 \n",
      "                                                                 \n",
      " leaky_re_lu_4 (LeakyReLU)   (None, 26, 26, 5)         0         \n",
      "                                                                 \n",
      " conv2d_transpose_2 (Conv2DT  (None, 28, 28, 1)        46        \n",
      " ranspose)                                                       \n",
      "                                                                 \n",
      "=================================================================\n",
      "Total params: 1,916\n",
      "Trainable params: 1,896\n",
      "Non-trainable params: 20\n",
      "_________________________________________________________________\n"
     ]
    }
   ],
   "source": [
    "code_size = 10\n",
    "\n",
    "generator = keras.Sequential(\n",
    "    [\n",
    "        Input((code_size,)),\n",
    "        Dense(100),\n",
    "        LeakyReLU(alpha=0.2),\n",
    "        Reshape((5, 5, 4)),\n",
    "        Conv2DTranspose(5, (4, 4), strides=(2, 2)),\n",
    "        BatchNormalization(),\n",
    "        LeakyReLU(alpha=0.2),\n",
    "#         UpSampling2D(size=(3, 3), interpolation='nearest'),\n",
    "        Conv2DTranspose(5, (4, 4), strides=(2, 2)),\n",
    "        BatchNormalization(),\n",
    "        LeakyReLU(alpha=0.2),\n",
    "#         Conv2DTranspose(2, (3, 3), strides=(1, 1)),\n",
    "#         BatchNormalization(),\n",
    "#         LeakyReLU(alpha=0.2),\n",
    "        Conv2DTranspose(1, (3, 3), strides=(1, 1), activation=\"sigmoid\"),\n",
    "    ],\n",
    "    name=\"generator\",\n",
    ")\n",
    "\n",
    "generator.summary()"
   ]
  },
  {
   "cell_type": "markdown",
   "metadata": {},
   "source": [
    "## IV. ConditionalGAN model"
   ]
  },
  {
   "cell_type": "code",
   "execution_count": 6,
   "metadata": {},
   "outputs": [
    {
     "name": "stdout",
     "output_type": "stream",
     "text": [
      "class created\n"
     ]
    }
   ],
   "source": [
    "class ConditionalGAN(keras.Model):\n",
    "    def __init__(self, discriminator, generator, latent_dim):\n",
    "        super(ConditionalGAN, self).__init__()\n",
    "        self.discriminator = discriminator\n",
    "        self.generator = generator\n",
    "        self.latent_dim = latent_dim\n",
    "        # to save the generator's loss\n",
    "        self.gen_loss_tracker = keras.metrics.Mean(name=\"generator_loss\")\n",
    "        # to save the discriminator's loss\n",
    "        self.disc_loss_tracker = keras.metrics.Mean(name=\"discriminator_loss\")\n",
    "\n",
    "    @property\n",
    "    def metrics(self):\n",
    "        return [self.gen_loss_tracker, self.disc_loss_tracker]\n",
    "\n",
    "    # redefine the method which defines the optimizer and the loss function\n",
    "    def compile(self, d_optimizer, g_optimizer, loss_fn):\n",
    "        super(ConditionalGAN, self).compile()\n",
    "        self.d_optimizer = d_optimizer\n",
    "        self.g_optimizer = g_optimizer\n",
    "        self.loss_fn = loss_fn\n",
    "\n",
    "    def train_step(self, X_real):\n",
    "        # Unpack the data.\n",
    "\n",
    "        # Sample random points in the latent space for the generator.\n",
    "        M = tf.shape(X_real)[0]\n",
    "        code_vectors = tf.random.normal(shape=(M, self.latent_dim))\n",
    "\n",
    "        # Decode the noise (guided by labels) to fake images.\n",
    "        X_fake = self.generator(code_vectors)\n",
    "\n",
    "        # Combine them with real images\n",
    "        X = tf.concat(\n",
    "            [X_fake, X_real], axis=0\n",
    "        )\n",
    "\n",
    "        # Assemble labels discriminating real from fake images.\n",
    "        # \n",
    "        Y = tf.concat(\n",
    "            [tf.zeros((M, 1)), tf.ones((M, 1))], axis=0\n",
    "        )\n",
    "\n",
    "        # Train the discriminator.\n",
    "        with tf.GradientTape() as tape:\n",
    "            # apply predictions : Y_pred\n",
    "            Y_pred = self.discriminator(X)\n",
    "            # calculate the loss function\n",
    "            d_loss = self.loss_fn(Y, Y_pred)\n",
    "        # calculate the gradients over the discriminator\n",
    "        grads = tape.gradient(d_loss, self.discriminator.trainable_weights)\n",
    "        # Apply them on the discriminator's weights\n",
    "        self.d_optimizer.apply_gradients(\n",
    "            zip(grads, self.discriminator.trainable_weights)\n",
    "        )\n",
    "\n",
    "        # Sample random points in the latent space.\n",
    "        code_vectors = tf.random.normal(shape=(M, self.latent_dim))\n",
    "\n",
    "        # Assemble labels that say \"all real images\".\n",
    "        Y_misleading = tf.ones((M, 1))\n",
    "\n",
    "        # Train the generator (note that we should *not* update the weights\n",
    "        # of the discriminator)!\n",
    "        with tf.GradientTape() as tape:\n",
    "            # generate some fake images using the generator\n",
    "            X_fake = self.generator(code_vectors)\n",
    "            # predict their labels using the discriminator\n",
    "            Y_pred = self.discriminator(X_fake)\n",
    "            # calculate the loss of the classification :\n",
    "            # the discriminator must classify all images as real\n",
    "            g_loss = self.loss_fn(Y_misleading, Y_pred)\n",
    "        # calculate the gradients over the generator's weights\n",
    "        grads = tape.gradient(g_loss, self.generator.trainable_weights)\n",
    "        # Apply the gradients to the generator\n",
    "        self.g_optimizer.apply_gradients(zip(grads, self.generator.trainable_weights))\n",
    "\n",
    "        # Monitor loss : save it for ulterior use\n",
    "        self.gen_loss_tracker.update_state(g_loss)\n",
    "        self.disc_loss_tracker.update_state(d_loss)\n",
    "        return {\n",
    "            \"g_loss\": self.gen_loss_tracker.result(),\n",
    "            \"d_loss\": self.disc_loss_tracker.result(),\n",
    "        }\n",
    "    \n",
    "gan = ConditionalGAN(discriminator=discriminator, generator=generator, latent_dim=code_size)\n",
    "\n",
    "gan.compile(\n",
    "    d_optimizer=keras.optimizers.Adam(learning_rate=0.001),\n",
    "    g_optimizer=keras.optimizers.Adam(learning_rate=0.001),\n",
    "    loss_fn=keras.losses.BinaryCrossentropy(),\n",
    ")\n",
    "\n",
    "print('class created')"
   ]
  },
  {
   "cell_type": "code",
   "execution_count": 7,
   "metadata": {},
   "outputs": [
    {
     "name": "stderr",
     "output_type": "stream",
     "text": [
      "2022-05-27 23:40:16.231451: W tensorflow/core/framework/cpu_allocator_impl.cc:82] Allocation of 188160000 exceeds 10% of free system memory.\n"
     ]
    },
    {
     "name": "stdout",
     "output_type": "stream",
     "text": [
      "Epoch 1/100\n",
      "100/100 [==============================] - 25s 239ms/step - g_loss: 1.4838 - d_loss: 0.4947\n",
      "Epoch 2/100\n",
      "100/100 [==============================] - 27s 274ms/step - g_loss: 1.4349 - d_loss: 0.4226\n",
      "Epoch 3/100\n",
      "100/100 [==============================] - 27s 274ms/step - g_loss: 1.0311 - d_loss: 0.6029\n",
      "Epoch 4/100\n",
      "100/100 [==============================] - 30s 297ms/step - g_loss: 1.0107 - d_loss: 0.7209\n",
      "Epoch 5/100\n",
      "100/100 [==============================] - 33s 331ms/step - g_loss: 0.7295 - d_loss: 0.7112\n",
      "Epoch 6/100\n",
      "100/100 [==============================] - 28s 278ms/step - g_loss: 0.8212 - d_loss: 0.6392\n",
      "Epoch 7/100\n",
      "100/100 [==============================] - 28s 278ms/step - g_loss: 0.7335 - d_loss: 0.6395\n",
      "Epoch 8/100\n",
      "100/100 [==============================] - 27s 265ms/step - g_loss: 0.8030 - d_loss: 0.6370\n",
      "Epoch 9/100\n",
      "100/100 [==============================] - 26s 261ms/step - g_loss: 0.8157 - d_loss: 0.6351\n",
      "Epoch 10/100\n",
      "100/100 [==============================] - 26s 262ms/step - g_loss: 0.9555 - d_loss: 0.6057\n",
      "Epoch 11/100\n",
      "100/100 [==============================] - 29s 292ms/step - g_loss: 0.7432 - d_loss: 0.7716\n",
      "Epoch 12/100\n",
      "100/100 [==============================] - 27s 268ms/step - g_loss: 0.8739 - d_loss: 0.6430\n",
      "Epoch 13/100\n",
      "100/100 [==============================] - 27s 269ms/step - g_loss: 0.7216 - d_loss: 0.7540\n",
      "Epoch 14/100\n",
      "100/100 [==============================] - 26s 262ms/step - g_loss: 0.8273 - d_loss: 0.6461\n",
      "Epoch 15/100\n",
      "100/100 [==============================] - 28s 283ms/step - g_loss: 0.8373 - d_loss: 0.6255\n",
      "Epoch 16/100\n",
      "100/100 [==============================] - 27s 270ms/step - g_loss: 0.9492 - d_loss: 0.5970\n",
      "Epoch 17/100\n",
      "100/100 [==============================] - 27s 266ms/step - g_loss: 1.1170 - d_loss: 0.5954\n",
      "Epoch 18/100\n",
      "100/100 [==============================] - 26s 263ms/step - g_loss: 0.9551 - d_loss: 0.6385\n",
      "Epoch 19/100\n",
      "100/100 [==============================] - 26s 260ms/step - g_loss: 1.2319 - d_loss: 0.4505\n",
      "Epoch 20/100\n",
      "100/100 [==============================] - 26s 260ms/step - g_loss: 0.9780 - d_loss: 0.6117\n",
      "Epoch 21/100\n",
      "100/100 [==============================] - 26s 260ms/step - g_loss: 0.9196 - d_loss: 0.6285\n",
      "Epoch 22/100\n",
      "100/100 [==============================] - 26s 261ms/step - g_loss: 0.7043 - d_loss: 0.8588\n",
      "Epoch 23/100\n",
      "100/100 [==============================] - 26s 262ms/step - g_loss: 0.9367 - d_loss: 0.6484\n",
      "Epoch 24/100\n",
      "100/100 [==============================] - 28s 280ms/step - g_loss: 1.0334 - d_loss: 0.5406\n",
      "Epoch 25/100\n",
      "100/100 [==============================] - 28s 276ms/step - g_loss: 0.7589 - d_loss: 0.6799\n",
      "Epoch 26/100\n",
      "100/100 [==============================] - 27s 268ms/step - g_loss: 0.8904 - d_loss: 0.6533\n",
      "Epoch 27/100\n",
      "100/100 [==============================] - 26s 264ms/step - g_loss: 0.7644 - d_loss: 0.6549\n",
      "Epoch 28/100\n",
      "100/100 [==============================] - 26s 260ms/step - g_loss: 0.8648 - d_loss: 0.7052\n",
      "Epoch 29/100\n",
      "100/100 [==============================] - 28s 281ms/step - g_loss: 0.7743 - d_loss: 0.6463\n",
      "Epoch 30/100\n",
      "100/100 [==============================] - 27s 269ms/step - g_loss: 0.8020 - d_loss: 0.6456\n",
      "Epoch 31/100\n",
      "100/100 [==============================] - 27s 270ms/step - g_loss: 0.7396 - d_loss: 0.7916\n",
      "Epoch 32/100\n",
      "100/100 [==============================] - 26s 262ms/step - g_loss: 0.7953 - d_loss: 0.5934\n",
      "Epoch 33/100\n",
      "100/100 [==============================] - 26s 261ms/step - g_loss: 0.8754 - d_loss: 0.6612\n",
      "Epoch 34/100\n",
      "100/100 [==============================] - 26s 262ms/step - g_loss: 0.8593 - d_loss: 0.6005\n",
      "Epoch 35/100\n",
      "100/100 [==============================] - 26s 261ms/step - g_loss: 0.8725 - d_loss: 0.6156\n",
      "Epoch 36/100\n",
      "100/100 [==============================] - 26s 261ms/step - g_loss: 0.7053 - d_loss: 0.7100\n",
      "Epoch 37/100\n",
      "100/100 [==============================] - 26s 261ms/step - g_loss: 0.9409 - d_loss: 0.5906\n",
      "Epoch 38/100\n",
      "100/100 [==============================] - 26s 262ms/step - g_loss: 0.9314 - d_loss: 0.6373\n",
      "Epoch 39/100\n",
      "100/100 [==============================] - 26s 261ms/step - g_loss: 0.5957 - d_loss: 0.7430\n",
      "Epoch 40/100\n",
      "100/100 [==============================] - 26s 257ms/step - g_loss: 0.9171 - d_loss: 0.6129\n",
      "Epoch 41/100\n",
      "100/100 [==============================] - 26s 260ms/step - g_loss: 0.6745 - d_loss: 0.7372\n",
      "Epoch 42/100\n",
      "100/100 [==============================] - 26s 261ms/step - g_loss: 0.9850 - d_loss: 0.5904\n",
      "Epoch 43/100\n",
      "100/100 [==============================] - 26s 263ms/step - g_loss: 0.9860 - d_loss: 0.6388\n",
      "Epoch 44/100\n",
      "100/100 [==============================] - 26s 260ms/step - g_loss: 0.7469 - d_loss: 0.6806\n",
      "Epoch 45/100\n",
      "100/100 [==============================] - 29s 287ms/step - g_loss: 0.9834 - d_loss: 0.5162\n",
      "Epoch 46/100\n",
      "100/100 [==============================] - 27s 274ms/step - g_loss: 1.1580 - d_loss: 0.4667\n",
      "Epoch 47/100\n",
      "100/100 [==============================] - 27s 269ms/step - g_loss: 1.2330 - d_loss: 0.4764\n",
      "Epoch 48/100\n",
      "100/100 [==============================] - 26s 262ms/step - g_loss: 1.3866 - d_loss: 0.3974\n",
      "Epoch 49/100\n",
      "100/100 [==============================] - 26s 261ms/step - g_loss: 1.8005 - d_loss: 0.4830\n",
      "Epoch 50/100\n",
      "100/100 [==============================] - 26s 260ms/step - g_loss: 1.9377 - d_loss: 0.2557\n",
      "Epoch 51/100\n",
      "100/100 [==============================] - 26s 260ms/step - g_loss: 1.1490 - d_loss: 0.5436\n",
      "Epoch 52/100\n",
      "100/100 [==============================] - 26s 258ms/step - g_loss: 1.3347 - d_loss: 0.4291\n",
      "Epoch 53/100\n",
      "100/100 [==============================] - 26s 259ms/step - g_loss: 1.1051 - d_loss: 0.9054\n",
      "Epoch 54/100\n",
      "100/100 [==============================] - 26s 260ms/step - g_loss: 0.5735 - d_loss: 1.1699\n",
      "Epoch 55/100\n",
      "100/100 [==============================] - 26s 258ms/step - g_loss: 0.9097 - d_loss: 0.6162\n",
      "Epoch 56/100\n",
      "100/100 [==============================] - 26s 258ms/step - g_loss: 0.6715 - d_loss: 0.8945\n",
      "Epoch 57/100\n",
      "100/100 [==============================] - 26s 258ms/step - g_loss: 0.7371 - d_loss: 0.7543\n",
      "Epoch 58/100\n",
      "100/100 [==============================] - 26s 261ms/step - g_loss: 0.6375 - d_loss: 0.7763\n",
      "Epoch 59/100\n",
      "100/100 [==============================] - 26s 260ms/step - g_loss: 0.6905 - d_loss: 0.7231\n",
      "Epoch 60/100\n",
      "100/100 [==============================] - 27s 274ms/step - g_loss: 0.7374 - d_loss: 0.6811\n",
      "Epoch 61/100\n",
      "100/100 [==============================] - 28s 276ms/step - g_loss: 0.7546 - d_loss: 0.6703\n",
      "Epoch 62/100\n",
      "100/100 [==============================] - 27s 275ms/step - g_loss: 0.7570 - d_loss: 0.6762\n",
      "Epoch 63/100\n",
      "100/100 [==============================] - 28s 275ms/step - g_loss: 0.8029 - d_loss: 0.6418\n",
      "Epoch 64/100\n",
      "100/100 [==============================] - 28s 275ms/step - g_loss: 0.7175 - d_loss: 0.7094\n",
      "Epoch 65/100\n",
      "100/100 [==============================] - 28s 276ms/step - g_loss: 0.7152 - d_loss: 0.6634\n",
      "Epoch 66/100\n",
      "100/100 [==============================] - 28s 275ms/step - g_loss: 0.8156 - d_loss: 0.6726\n",
      "Epoch 67/100\n",
      "100/100 [==============================] - 28s 277ms/step - g_loss: 0.7128 - d_loss: 0.7161\n",
      "Epoch 68/100\n",
      "100/100 [==============================] - 28s 275ms/step - g_loss: 0.7205 - d_loss: 0.7283\n",
      "Epoch 69/100\n",
      "100/100 [==============================] - 28s 275ms/step - g_loss: 0.7587 - d_loss: 0.6436\n",
      "Epoch 70/100\n",
      "100/100 [==============================] - 27s 275ms/step - g_loss: 0.7477 - d_loss: 0.6919\n",
      "Epoch 71/100\n",
      "100/100 [==============================] - 28s 276ms/step - g_loss: 0.7522 - d_loss: 0.6800\n",
      "Epoch 72/100\n",
      "100/100 [==============================] - 28s 275ms/step - g_loss: 0.7232 - d_loss: 0.6765\n",
      "Epoch 73/100\n",
      "100/100 [==============================] - 28s 276ms/step - g_loss: 0.8137 - d_loss: 0.6175\n",
      "Epoch 74/100\n",
      "100/100 [==============================] - 28s 275ms/step - g_loss: 0.7454 - d_loss: 0.6727\n",
      "Epoch 75/100\n",
      "100/100 [==============================] - 28s 275ms/step - g_loss: 0.7342 - d_loss: 0.6551\n",
      "Epoch 76/100\n",
      "100/100 [==============================] - 27s 274ms/step - g_loss: 0.7217 - d_loss: 0.7066\n",
      "Epoch 77/100\n",
      "100/100 [==============================] - 27s 272ms/step - g_loss: 0.7888 - d_loss: 0.6678\n",
      "Epoch 78/100\n",
      "100/100 [==============================] - 27s 274ms/step - g_loss: 0.7874 - d_loss: 0.6491\n",
      "Epoch 79/100\n"
     ]
    },
    {
     "name": "stdout",
     "output_type": "stream",
     "text": [
      "100/100 [==============================] - 27s 270ms/step - g_loss: 0.7610 - d_loss: 0.6533\n",
      "Epoch 80/100\n",
      "100/100 [==============================] - 27s 270ms/step - g_loss: 0.7709 - d_loss: 0.6562\n",
      "Epoch 81/100\n",
      "100/100 [==============================] - 27s 269ms/step - g_loss: 0.7398 - d_loss: 0.7031\n",
      "Epoch 82/100\n",
      "100/100 [==============================] - 27s 270ms/step - g_loss: 0.7353 - d_loss: 0.6540\n",
      "Epoch 83/100\n",
      "100/100 [==============================] - 27s 272ms/step - g_loss: 0.8064 - d_loss: 0.6346\n",
      "Epoch 84/100\n",
      "100/100 [==============================] - 27s 270ms/step - g_loss: 0.6746 - d_loss: 0.7181\n",
      "Epoch 85/100\n",
      "100/100 [==============================] - 27s 274ms/step - g_loss: 0.6985 - d_loss: 0.7010\n",
      "Epoch 86/100\n",
      "100/100 [==============================] - 27s 271ms/step - g_loss: 0.7609 - d_loss: 0.6547\n",
      "Epoch 87/100\n",
      "100/100 [==============================] - 27s 270ms/step - g_loss: 0.7178 - d_loss: 0.6998\n",
      "Epoch 88/100\n",
      "100/100 [==============================] - 27s 270ms/step - g_loss: 0.7670 - d_loss: 0.6624\n",
      "Epoch 89/100\n",
      "100/100 [==============================] - 29s 288ms/step - g_loss: 0.8113 - d_loss: 0.6684\n",
      "Epoch 90/100\n",
      "100/100 [==============================] - 27s 272ms/step - g_loss: 0.6782 - d_loss: 0.7161\n",
      "Epoch 91/100\n",
      "100/100 [==============================] - 27s 272ms/step - g_loss: 0.7615 - d_loss: 0.6599\n",
      "Epoch 92/100\n",
      "100/100 [==============================] - 27s 272ms/step - g_loss: 0.6973 - d_loss: 0.6836\n",
      "Epoch 93/100\n",
      "100/100 [==============================] - 27s 273ms/step - g_loss: 0.6918 - d_loss: 0.7068\n",
      "Epoch 94/100\n",
      "100/100 [==============================] - 27s 272ms/step - g_loss: 0.7779 - d_loss: 0.6864\n",
      "Epoch 95/100\n",
      "100/100 [==============================] - 27s 273ms/step - g_loss: 0.7330 - d_loss: 0.6673\n",
      "Epoch 96/100\n",
      "100/100 [==============================] - 27s 272ms/step - g_loss: 0.7699 - d_loss: 0.6838\n",
      "Epoch 97/100\n",
      "100/100 [==============================] - 27s 271ms/step - g_loss: 0.6853 - d_loss: 0.6890\n",
      "Epoch 98/100\n",
      "100/100 [==============================] - 27s 272ms/step - g_loss: 0.7223 - d_loss: 0.7168\n",
      "Epoch 99/100\n",
      "100/100 [==============================] - 27s 272ms/step - g_loss: 0.7225 - d_loss: 0.6373\n",
      "Epoch 100/100\n",
      "100/100 [==============================] - 27s 272ms/step - g_loss: 0.8783 - d_loss: 0.7057\n"
     ]
    },
    {
     "data": {
      "text/plain": [
       "<keras.callbacks.History at 0x7f55bc4a5400>"
      ]
     },
     "execution_count": 7,
     "metadata": {},
     "output_type": "execute_result"
    }
   ],
   "source": [
    "gan.fit(x_train, epochs=100, batch_size=600)"
   ]
  },
  {
   "cell_type": "markdown",
   "metadata": {},
   "source": [
    "## V. Decoding fake images"
   ]
  },
  {
   "cell_type": "code",
   "execution_count": 8,
   "metadata": {},
   "outputs": [
    {
     "name": "stdout",
     "output_type": "stream",
     "text": [
      "1/1 [==============================] - 0s 140ms/step\n"
     ]
    },
    {
     "data": {
      "image/png": "[encoded data removed]",
      "text/plain": [
       "<Figure size 1440x288 with 10 Axes>"
      ]
     },
     "metadata": {
      "needs_background": "light"
     },
     "output_type": "display_data"
    }
   ],
   "source": [
    "NBR = 10\n",
    "\n",
    "codes = np.random.normal(size=(NBR, code_size))\n",
    "decoded_imgs = generator.predict(codes)\n",
    "\n",
    "plt.figure(figsize=(20, 4))\n",
    "for i in range(NBR):\n",
    "    ax = plt.subplot(1, NBR, i + 1)\n",
    "    plt.imshow(decoded_imgs[i].reshape(28, 28))\n",
    "    plt.gray()\n",
    "    #plt.title(str(codes[i]))\n",
    "    ax.get_xaxis().set_visible(False)\n",
    "    ax.get_yaxis().set_visible(False)\n",
    "plt.show()"
   ]
  },
  {
   "cell_type": "code",
   "execution_count": null,
   "metadata": {},
   "outputs": [],
   "source": []
  }
 ],
 "metadata": {
  "kernelspec": {
   "display_name": "Python 3 (ipykernel)",
   "language": "python",
   "name": "python3"
  },
  "language_info": {
   "codemirror_mode": {
    "name": "ipython",
    "version": 3
   },
   "file_extension": ".py",
   "mimetype": "text/x-python",
   "name": "python",
   "nbconvert_exporter": "python",
   "pygments_lexer": "ipython3",
   "version": "3.8.10"
  }
 },
 "nbformat": 4,
 "nbformat_minor": 2
}
