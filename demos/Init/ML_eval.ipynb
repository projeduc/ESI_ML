{
 "cells": [
  {
   "cell_type": "markdown",
   "id": "7c001684",
   "metadata": {},
   "source": [
    "# Evaluation des modèles\n",
    "\n",
    "## I. Classement\n",
    "\n",
    "\n",
    "### I.1. Classement binaire"
   ]
  },
  {
   "cell_type": "code",
   "execution_count": 1,
   "id": "34357d2d",
   "metadata": {},
   "outputs": [],
   "source": [
    "# Les classes réelles\n",
    "Y_true = [0, 0, 0, 0, 1, 1, 1, 1, 1, 1]\n",
    "# Les classes que le système a prédit\n",
    "Y_pred = [0, 0, 0, 1, 1, 1, 1, 0, 0, 0]"
   ]
  },
  {
   "cell_type": "code",
   "execution_count": 2,
   "id": "57fdffea",
   "metadata": {},
   "outputs": [
    {
     "name": "stdout",
     "output_type": "stream",
     "text": [
      "[[3 1]\n",
      " [3 3]]\n"
     ]
    }
   ],
   "source": [
    "# La matrice de confusion\n",
    "from sklearn.metrics import confusion_matrix\n",
    "print(confusion_matrix(Y_true, Y_pred))"
   ]
  },
  {
   "cell_type": "code",
   "execution_count": 3,
   "id": "0cc74c99",
   "metadata": {},
   "outputs": [
    {
     "data": {
      "text/plain": [
       "0.6"
      ]
     },
     "execution_count": 3,
     "metadata": {},
     "output_type": "execute_result"
    }
   ],
   "source": [
    "# L'exactitude (Accuracy)\n",
    "from sklearn.metrics import accuracy_score\n",
    "accuracy_score(Y_true, Y_pred)"
   ]
  },
  {
   "cell_type": "code",
   "execution_count": 4,
   "id": "98f2c26f",
   "metadata": {},
   "outputs": [
    {
     "data": {
      "text/plain": [
       "0.75"
      ]
     },
     "execution_count": 4,
     "metadata": {},
     "output_type": "execute_result"
    }
   ],
   "source": [
    "# La precision\n",
    "from sklearn.metrics import precision_score\n",
    "precision_score(Y_true, Y_pred)"
   ]
  },
  {
   "cell_type": "code",
   "execution_count": 5,
   "id": "ed9c68e9",
   "metadata": {},
   "outputs": [
    {
     "data": {
      "text/plain": [
       "0.5"
      ]
     },
     "execution_count": 5,
     "metadata": {},
     "output_type": "execute_result"
    }
   ],
   "source": [
    "# La precision\n",
    "from sklearn.metrics import recall_score\n",
    "recall_score(Y_true, Y_pred)"
   ]
  },
  {
   "cell_type": "code",
   "execution_count": 6,
   "id": "d86516c3",
   "metadata": {},
   "outputs": [
    {
     "data": {
      "text/plain": [
       "0.6"
      ]
     },
     "execution_count": 6,
     "metadata": {},
     "output_type": "execute_result"
    }
   ],
   "source": [
    "# F1-score  = moyenne harmonique entre le rappel et la précision \n",
    "from sklearn.metrics import f1_score\n",
    "f1_score(Y_true, Y_pred)"
   ]
  },
  {
   "cell_type": "code",
   "execution_count": 7,
   "id": "ad35ad50",
   "metadata": {},
   "outputs": [
    {
     "data": {
      "text/plain": [
       "0.6818181818181818"
      ]
     },
     "execution_count": 7,
     "metadata": {},
     "output_type": "execute_result"
    }
   ],
   "source": [
    "# F_beta-score  ; \n",
    "# si beta < 1 : plus d'importance à la précision\n",
    "# si beta > 1 : plus d'importance au rappel\n",
    "# si beta = 1 : F1-score\n",
    "from sklearn.metrics import fbeta_score\n",
    "fbeta_score(Y_true, Y_pred, beta=0.5)"
   ]
  },
  {
   "cell_type": "code",
   "execution_count": 8,
   "id": "b60b0388",
   "metadata": {},
   "outputs": [
    {
     "data": {
      "text/plain": [
       "0.25"
      ]
     },
     "execution_count": 8,
     "metadata": {},
     "output_type": "execute_result"
    }
   ],
   "source": [
    "# Corrélation de Matthews\n",
    "from sklearn.metrics import matthews_corrcoef\n",
    "\n",
    "# Mieux que le random\n",
    "matthews_corrcoef(Y_true, Y_pred)"
   ]
  },
  {
   "cell_type": "code",
   "execution_count": 9,
   "id": "ce492707",
   "metadata": {},
   "outputs": [
    {
     "name": "stdout",
     "output_type": "stream",
     "text": [
      "              precision    recall  f1-score   support\n",
      "\n",
      "           0       0.50      0.75      0.60         4\n",
      "           1       0.75      0.50      0.60         6\n",
      "\n",
      "    accuracy                           0.60        10\n",
      "   macro avg       0.62      0.62      0.60        10\n",
      "weighted avg       0.65      0.60      0.60        10\n",
      "\n"
     ]
    }
   ],
   "source": [
    "# Rapport de classification\n",
    "from sklearn.metrics import classification_report\n",
    "print(classification_report(Y_true, Y_pred))"
   ]
  },
  {
   "cell_type": "markdown",
   "id": "9927981a",
   "metadata": {},
   "source": [
    "### I.2. Classement multiclasses"
   ]
  },
  {
   "cell_type": "code",
   "execution_count": 10,
   "id": "dc9cae92",
   "metadata": {},
   "outputs": [],
   "source": [
    "Y_true = [0, 0, 0, 1, 1, 1, 1, 1, 2, 2]\n",
    "Y_pred = [0, 0, 2, 0, 1, 1, 2, 2, 0, 2]"
   ]
  },
  {
   "cell_type": "code",
   "execution_count": 11,
   "id": "6e1d4024",
   "metadata": {},
   "outputs": [
    {
     "name": "stdout",
     "output_type": "stream",
     "text": [
      "              precision    recall  f1-score   support\n",
      "\n",
      "        cls0       0.50      0.67      0.57         3\n",
      "        cls1       1.00      0.40      0.57         5\n",
      "        cls2       0.25      0.50      0.33         2\n",
      "\n",
      "    accuracy                           0.50        10\n",
      "   macro avg       0.58      0.52      0.49        10\n",
      "weighted avg       0.70      0.50      0.52        10\n",
      "\n"
     ]
    }
   ],
   "source": [
    "# Rapport de classification \n",
    "# target_names : les noms des différentes classes\n",
    "# zero_division : s'il y a une division sur 0, on prend 0 ou 1\n",
    "from sklearn.metrics import classification_report\n",
    "print(classification_report(Y_true, Y_pred, target_names=['cls0', 'cls1', 'cls2'], zero_division=0))"
   ]
  },
  {
   "cell_type": "code",
   "execution_count": 12,
   "id": "7b2bad75",
   "metadata": {},
   "outputs": [
    {
     "name": "stdout",
     "output_type": "stream",
     "text": [
      "R-micro =  0.5\n",
      "R-macro =  0.5222222222222223\n",
      "R-weighted =  0.5\n"
     ]
    }
   ],
   "source": [
    "# rappel avec micro-average\n",
    "print('R-micro = ', recall_score(Y_true, Y_pred, average='micro'))\n",
    "# rappel avec macro-average\n",
    "print('R-macro = ', recall_score(Y_true, Y_pred, average='macro'))\n",
    "# rappel avec weighted-average\n",
    "print('R-weighted = ', recall_score(Y_true, Y_pred, average='weighted'))"
   ]
  },
  {
   "cell_type": "code",
   "execution_count": 13,
   "id": "2fab5991",
   "metadata": {},
   "outputs": [
    {
     "data": {
      "text/plain": [
       "array([[2, 0, 1],\n",
       "       [1, 2, 2],\n",
       "       [1, 0, 1]])"
      ]
     },
     "execution_count": 13,
     "metadata": {},
     "output_type": "execute_result"
    }
   ],
   "source": [
    "confusion_matrix(Y_true, Y_pred)"
   ]
  },
  {
   "cell_type": "markdown",
   "id": "e0d1b9ea",
   "metadata": {},
   "source": [
    "## II. Régression"
   ]
  },
  {
   "cell_type": "code",
   "execution_count": 14,
   "id": "bba4bc9f",
   "metadata": {},
   "outputs": [],
   "source": [
    "Y_true = [1.0, 2.0, 3.0, 4.0]\n",
    "Y_pred = [1.1, 2.1, 3.1, 7.0]"
   ]
  },
  {
   "cell_type": "code",
   "execution_count": 15,
   "id": "b58b5f18",
   "metadata": {},
   "outputs": [
    {
     "data": {
      "text/plain": [
       "2.2575"
      ]
     },
     "execution_count": 15,
     "metadata": {},
     "output_type": "execute_result"
    }
   ],
   "source": [
    "# MSE\n",
    "from sklearn.metrics import mean_squared_error\n",
    "mean_squared_error(Y_true, Y_pred)"
   ]
  },
  {
   "cell_type": "code",
   "execution_count": 16,
   "id": "7365e9da",
   "metadata": {},
   "outputs": [
    {
     "data": {
      "text/plain": [
       "1.502497920131672"
      ]
     },
     "execution_count": 16,
     "metadata": {},
     "output_type": "execute_result"
    }
   ],
   "source": [
    "# RMSE\n",
    "import math\n",
    "from sklearn.metrics import mean_squared_error\n",
    "math.sqrt(mean_squared_error(Y_true, Y_pred))"
   ]
  },
  {
   "cell_type": "code",
   "execution_count": 17,
   "id": "d293e916",
   "metadata": {},
   "outputs": [
    {
     "data": {
      "text/plain": [
       "0.010000000000000018"
      ]
     },
     "execution_count": 17,
     "metadata": {},
     "output_type": "execute_result"
    }
   ],
   "source": [
    "# Si on ne considère pas le dernier échantillon (valeur abbérante)\n",
    "mean_squared_error(Y_true[:-1], Y_pred[:-1])"
   ]
  },
  {
   "cell_type": "code",
   "execution_count": 18,
   "id": "839c92cb",
   "metadata": {},
   "outputs": [
    {
     "data": {
      "text/plain": [
       "0.8250000000000001"
      ]
     },
     "execution_count": 18,
     "metadata": {},
     "output_type": "execute_result"
    }
   ],
   "source": [
    "# MAE\n",
    "from sklearn.metrics import mean_absolute_error\n",
    "mean_absolute_error(Y_true, Y_pred)"
   ]
  },
  {
   "cell_type": "code",
   "execution_count": 19,
   "id": "977201b5",
   "metadata": {},
   "outputs": [
    {
     "data": {
      "text/plain": [
       "0.10000000000000009"
      ]
     },
     "execution_count": 19,
     "metadata": {},
     "output_type": "execute_result"
    }
   ],
   "source": [
    "# Si on ne considère pas le dernier échantillon (valeur abbérante)\n",
    "mean_absolute_error(Y_true[:-1], Y_pred[:-1])"
   ]
  },
  {
   "cell_type": "markdown",
   "id": "22492a9b",
   "metadata": {},
   "source": [
    "## III. Regroupement (Clustering)"
   ]
  },
  {
   "cell_type": "code",
   "execution_count": 20,
   "id": "46203c87",
   "metadata": {},
   "outputs": [
    {
     "data": {
      "text/plain": [
       "1.0"
      ]
     },
     "execution_count": 20,
     "metadata": {},
     "output_type": "execute_result"
    }
   ],
   "source": [
    "# Rand index \n",
    "# RI = (nombre des pairs dans le meme groupes pour systeme et reeel) / (nombre des pairs)\n",
    "from sklearn.metrics.cluster import rand_score\n",
    "# Ici, meme si nous inversons les labels c'est la meme chose\n",
    "rand_score([0, 0, 1, 1], [1, 1, 0, 0])"
   ]
  },
  {
   "cell_type": "code",
   "execution_count": 21,
   "id": "3d43ca60",
   "metadata": {},
   "outputs": [
    {
     "data": {
      "text/plain": [
       "1.0"
      ]
     },
     "execution_count": 21,
     "metadata": {},
     "output_type": "execute_result"
    }
   ],
   "source": [
    "rand_score([1, 1, 0, 0], [1, 1, 0, 0])"
   ]
  },
  {
   "cell_type": "code",
   "execution_count": 22,
   "id": "551a8b6e",
   "metadata": {},
   "outputs": [
    {
     "data": {
      "text/plain": [
       "0.8333333333333334"
      ]
     },
     "execution_count": 22,
     "metadata": {},
     "output_type": "execute_result"
    }
   ],
   "source": [
    "# Nombre des différents pairs est 6 \n",
    "# Le premier 0 est similaire au deuxième et différent des deux derniers ==> 3\n",
    "# Le deuxième 0 est différent aux deux derniers ==> 2\n",
    "# Donc RI = 5/6\n",
    "rand_score([0, 0, 1, 2], [0, 0, 1, 1])"
   ]
  },
  {
   "cell_type": "code",
   "execution_count": 23,
   "id": "ec849c21",
   "metadata": {},
   "outputs": [
    {
     "data": {
      "text/plain": [
       "([[1, 1], [1, 2], [2, 1], [2, 2], [4, 3], [4, 4], [5, 3], [5, 4]],\n",
       " [0, 0, 0, 0, 0, 1, 1, 1])"
      ]
     },
     "execution_count": 23,
     "metadata": {},
     "output_type": "execute_result"
    }
   ],
   "source": [
    "# Silouette\n",
    "# un exemple\n",
    "\n",
    "\n",
    "X = [\n",
    "    [1, 1],\n",
    "    [1, 2],\n",
    "    [2, 1],\n",
    "    [2, 2], \n",
    "    [4, 3], \n",
    "    \n",
    "    [4, 4],\n",
    "    [5, 3],\n",
    "    [5, 4]\n",
    "]\n",
    "Y = [0] * 5 + [1] * 3\n",
    "\n",
    "X, Y"
   ]
  },
  {
   "cell_type": "code",
   "execution_count": 24,
   "id": "e47682fe",
   "metadata": {},
   "outputs": [
    {
     "data": {
      "text/plain": [
       "array([ 0.61612035,  0.59573378,  0.59122704,  0.55839953, -0.61526707,\n",
       "        0.60506042,  0.63114906,  0.7331133 ])"
      ]
     },
     "execution_count": 24,
     "metadata": {},
     "output_type": "execute_result"
    }
   ],
   "source": [
    "# Silouette de chaque echantillon\n",
    "from sklearn.metrics import silhouette_samples\n",
    "\n",
    "# 0 veut dire l'échantillon est dans des clusters chevauchés\n",
    "# -1 veut dire que l'échantillon est dans un cluster érroné\n",
    "# +1 veut dire que l'échantillon est dans un bon cluster\n",
    "silhouette_samples(X, Y)"
   ]
  },
  {
   "cell_type": "code",
   "execution_count": 25,
   "id": "a8b00ad6",
   "metadata": {},
   "outputs": [
    {
     "data": {
      "text/plain": [
       "0.4644420527977074"
      ]
     },
     "execution_count": 25,
     "metadata": {},
     "output_type": "execute_result"
    }
   ],
   "source": [
    "# Silouette moyenne\n",
    "from sklearn.metrics import silhouette_score\n",
    "\n",
    "silhouette_score(X, Y)"
   ]
  },
  {
   "cell_type": "code",
   "execution_count": null,
   "id": "daf2877d",
   "metadata": {},
   "outputs": [],
   "source": []
  }
 ],
 "metadata": {
  "kernelspec": {
   "display_name": "Python 3 (ipykernel)",
   "language": "python",
   "name": "python3"
  },
  "language_info": {
   "codemirror_mode": {
    "name": "ipython",
    "version": 3
   },
   "file_extension": ".py",
   "mimetype": "text/x-python",
   "name": "python",
   "nbconvert_exporter": "python",
   "pygments_lexer": "ipython3",
   "version": "3.10.6"
  }
 },
 "nbformat": 4,
 "nbformat_minor": 5
}
