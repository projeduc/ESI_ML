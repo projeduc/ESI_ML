{
 "cells": [
  {
   "cell_type": "code",
   "execution_count": 2,
   "id": "dc9cae92",
   "metadata": {},
   "outputs": [],
   "source": [
    "Y_true = [0, 0, 0, 1, 1, 1, 1, 1, 2, 2]\n",
    "Y_pred = [0, 0, 2, 0, 1, 1, 2, 2, 0, 2]"
   ]
  },
  {
   "cell_type": "code",
   "execution_count": 6,
   "id": "7b2bad75",
   "metadata": {},
   "outputs": [
    {
     "name": "stdout",
     "output_type": "stream",
     "text": [
      "              precision    recall  f1-score   support\n",
      "\n",
      "           0       0.50      0.67      0.57         3\n",
      "           1       1.00      0.40      0.57         5\n",
      "           2       0.25      0.50      0.33         2\n",
      "\n",
      "    accuracy                           0.50        10\n",
      "   macro avg       0.58      0.52      0.49        10\n",
      "weighted avg       0.70      0.50      0.52        10\n",
      "\n"
     ]
    }
   ],
   "source": [
    "from sklearn.metrics import classification_report, confusion_matrix\n",
    "\n",
    "\n",
    "print(classification_report(Y_true, Y_pred))"
   ]
  },
  {
   "cell_type": "code",
   "execution_count": 5,
   "id": "2fab5991",
   "metadata": {},
   "outputs": [
    {
     "data": {
      "text/plain": [
       "array([[2, 0, 1],\n",
       "       [1, 2, 2],\n",
       "       [1, 0, 1]])"
      ]
     },
     "execution_count": 5,
     "metadata": {},
     "output_type": "execute_result"
    }
   ],
   "source": [
    "confusion_matrix(Y_true, Y_pred)"
   ]
  },
  {
   "cell_type": "code",
   "execution_count": null,
   "id": "85fe57c0",
   "metadata": {},
   "outputs": [],
   "source": []
  }
 ],
 "metadata": {
  "kernelspec": {
   "display_name": "Python 3 (ipykernel)",
   "language": "python",
   "name": "python3"
  },
  "language_info": {
   "codemirror_mode": {
    "name": "ipython",
    "version": 3
   },
   "file_extension": ".py",
   "mimetype": "text/x-python",
   "name": "python",
   "nbconvert_exporter": "python",
   "pygments_lexer": "ipython3",
   "version": "3.10.6"
  }
 },
 "nbformat": 4,
 "nbformat_minor": 5
}
