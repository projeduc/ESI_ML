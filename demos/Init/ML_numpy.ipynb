{
 "cells": [
  {
   "cell_type": "markdown",
   "id": "3792e4a4",
   "metadata": {},
   "source": [
    "# ML : Tutoriel sur Numpy"
   ]
  },
  {
   "cell_type": "code",
   "execution_count": 1,
   "id": "e9332754",
   "metadata": {},
   "outputs": [],
   "source": [
    "import numpy as np"
   ]
  },
  {
   "cell_type": "markdown",
   "id": "139fe989",
   "metadata": {},
   "source": [
    "## 1. Création"
   ]
  },
  {
   "cell_type": "code",
   "execution_count": 2,
   "id": "196531e0",
   "metadata": {},
   "outputs": [
    {
     "data": {
      "text/plain": [
       "array([[1, 2, 3],\n",
       "       [4, 5, 6]])"
      ]
     },
     "execution_count": 2,
     "metadata": {},
     "output_type": "execute_result"
    }
   ],
   "source": [
    "# Créer une matrice numpy à partir d'une liste Python\n",
    "# le type des éléments doit être homogène\n",
    "A = np.array([[1, 2, 3], [4, 5, 6]])\n",
    "\n",
    "A"
   ]
  },
  {
   "cell_type": "code",
   "execution_count": 3,
   "id": "d5e6a55d",
   "metadata": {},
   "outputs": [
    {
     "data": {
      "text/plain": [
       "array([[1., 0., 0., 0., 0.],\n",
       "       [0., 1., 0., 0., 0.],\n",
       "       [0., 0., 1., 0., 0.],\n",
       "       [0., 0., 0., 1., 0.],\n",
       "       [0., 0., 0., 0., 1.]])"
      ]
     },
     "execution_count": 3,
     "metadata": {},
     "output_type": "execute_result"
    }
   ],
   "source": [
    "# Créer une matrice identité : des 1 au diagonal et des 0 partout\n",
    "I = np.eye(5)\n",
    "\n",
    "I"
   ]
  },
  {
   "cell_type": "code",
   "execution_count": 4,
   "id": "7cd89e20",
   "metadata": {},
   "outputs": [
    {
     "data": {
      "text/plain": [
       "array([[1., 0., 0.],\n",
       "       [0., 1., 0.],\n",
       "       [0., 0., 1.],\n",
       "       [0., 0., 0.],\n",
       "       [0., 0., 0.]])"
      ]
     },
     "execution_count": 4,
     "metadata": {},
     "output_type": "execute_result"
    }
   ],
   "source": [
    "# créer une matrice diagonale à partir du premier élément\n",
    "I2 = np.eye(5, 3)\n",
    "\n",
    "I2"
   ]
  },
  {
   "cell_type": "code",
   "execution_count": 5,
   "id": "e883f615",
   "metadata": {},
   "outputs": [
    {
     "data": {
      "text/plain": [
       "array([1., 1., 1., 1., 1.])"
      ]
     },
     "execution_count": 5,
     "metadata": {},
     "output_type": "execute_result"
    }
   ],
   "source": [
    "# Créer un vecteur de 5 éléments dont les valeurs sont des 1\n",
    "O = np.ones(5)\n",
    "\n",
    "O"
   ]
  },
  {
   "cell_type": "code",
   "execution_count": 6,
   "id": "5ac02ffc",
   "metadata": {},
   "outputs": [
    {
     "data": {
      "text/plain": [
       "array([[1., 1., 1., 1., 1.],\n",
       "       [1., 1., 1., 1., 1.],\n",
       "       [1., 1., 1., 1., 1.]])"
      ]
     },
     "execution_count": 6,
     "metadata": {},
     "output_type": "execute_result"
    }
   ],
   "source": [
    "# Créer une matrice de 3X5 éléments dont les valeurs sont des 1\n",
    "O2 = np.ones((3, 5))\n",
    "\n",
    "O2"
   ]
  },
  {
   "cell_type": "code",
   "execution_count": 7,
   "id": "09ea054b",
   "metadata": {},
   "outputs": [
    {
     "data": {
      "text/plain": [
       "array([[0., 0., 0., 0., 0.],\n",
       "       [0., 0., 0., 0., 0.],\n",
       "       [0., 0., 0., 0., 0.]])"
      ]
     },
     "execution_count": 7,
     "metadata": {},
     "output_type": "execute_result"
    }
   ],
   "source": [
    "# Créer une matrice de 3X5 éléments dont les valeurs sont des 0\n",
    "Z = np.zeros((3, 5))\n",
    "\n",
    "Z"
   ]
  },
  {
   "cell_type": "code",
   "execution_count": 8,
   "id": "1a36c765",
   "metadata": {},
   "outputs": [
    {
     "data": {
      "text/plain": [
       "array([[2.2, 2.2, 2.2, 2.2, 2.2],\n",
       "       [2.2, 2.2, 2.2, 2.2, 2.2],\n",
       "       [2.2, 2.2, 2.2, 2.2, 2.2]])"
      ]
     },
     "execution_count": 8,
     "metadata": {},
     "output_type": "execute_result"
    }
   ],
   "source": [
    "# Créer une matrice de 3X5 éléments dont les valeurs sont des 2.2 (une valeur donnée)\n",
    "V = np.full((3, 5), 2.2)\n",
    "\n",
    "V"
   ]
  },
  {
   "cell_type": "code",
   "execution_count": 9,
   "id": "3358db90",
   "metadata": {},
   "outputs": [
    {
     "data": {
      "text/plain": [
       "array([0, 1, 2, 3, 4])"
      ]
     },
     "execution_count": 9,
     "metadata": {},
     "output_type": "execute_result"
    }
   ],
   "source": [
    "# Créer un vecteur avec des valeurs dans [0, 5[ (pas = 1)\n",
    "C = np.arange(0, 5)\n",
    "\n",
    "C"
   ]
  },
  {
   "cell_type": "code",
   "execution_count": 10,
   "id": "678298e9",
   "metadata": {},
   "outputs": [
    {
     "data": {
      "text/plain": [
       "array([0. , 0.5, 1. , 1.5, 2. , 2.5, 3. , 3.5, 4. , 4.5])"
      ]
     },
     "execution_count": 10,
     "metadata": {},
     "output_type": "execute_result"
    }
   ],
   "source": [
    "# Créer un vecteur avec des valeurs dans [0, 5[ (pas = 0.5)\n",
    "P = np.arange(0, 5, 0.5)\n",
    "\n",
    "P"
   ]
  },
  {
   "cell_type": "code",
   "execution_count": 11,
   "id": "19b61fe7",
   "metadata": {},
   "outputs": [
    {
     "data": {
      "text/plain": [
       "array([[0.77980909, 0.51510717, 0.71080604, 0.52292232, 0.65899282],\n",
       "       [0.37957472, 0.87642282, 0.4274657 , 0.31823589, 0.7653407 ],\n",
       "       [0.79158987, 0.79187292, 0.62662786, 0.84249114, 0.57402291]])"
      ]
     },
     "execution_count": 11,
     "metadata": {},
     "output_type": "execute_result"
    }
   ],
   "source": [
    "# Créer une matrice 3X5 avec des valeurs aléatoires dans [0, 1]\n",
    "A  = np.random.rand(3, 5)\n",
    "\n",
    "A"
   ]
  },
  {
   "cell_type": "code",
   "execution_count": 12,
   "id": "06833ef4",
   "metadata": {},
   "outputs": [
    {
     "data": {
      "text/plain": [
       "array([0. , 0.5, 1. , 1.5, 2. , 2.5, 3. , 3.5, 4. , 4.5, 5. ])"
      ]
     },
     "execution_count": 12,
     "metadata": {},
     "output_type": "execute_result"
    }
   ],
   "source": [
    "# Créer un vecteur avec 11 éléments dont les valeurs sont dans [0, 5] \n",
    "# c'est comme np.arange(0, 5.000000000001, (5-0+1)/11) \n",
    "# j'ai utilisé 5.000000001 pour inclure 5 dans le vecteur\n",
    "B = np.linspace(0, 5, 11)\n",
    "\n",
    "B"
   ]
  },
  {
   "cell_type": "code",
   "execution_count": 13,
   "id": "62d112e2",
   "metadata": {},
   "outputs": [
    {
     "data": {
      "text/plain": [
       "array([[5, 0, 0, 0],\n",
       "       [0, 2, 0, 0],\n",
       "       [0, 0, 3, 0],\n",
       "       [0, 0, 0, 5]])"
      ]
     },
     "execution_count": 13,
     "metadata": {},
     "output_type": "execute_result"
    }
   ],
   "source": [
    "# Créer une matrice diagonale avec un vecteur donnée\n",
    "D = np.diag([5, 2, 3, 5])\n",
    "\n",
    "D"
   ]
  },
  {
   "cell_type": "code",
   "execution_count": 14,
   "id": "c4ad9121",
   "metadata": {},
   "outputs": [
    {
     "data": {
      "text/plain": [
       "array([[0, 5, 0, 0, 0],\n",
       "       [0, 0, 2, 0, 0],\n",
       "       [0, 0, 0, 3, 0],\n",
       "       [0, 0, 0, 0, 5],\n",
       "       [0, 0, 0, 0, 0]])"
      ]
     },
     "execution_count": 14,
     "metadata": {},
     "output_type": "execute_result"
    }
   ],
   "source": [
    "# Créer une matrice diagonale avec un vecteur donnée et un décalage (shift)\n",
    "D1 = np.diag([5, 2, 3, 5], 1)\n",
    "\n",
    "D1"
   ]
  },
  {
   "cell_type": "code",
   "execution_count": 15,
   "id": "7605062f",
   "metadata": {},
   "outputs": [
    {
     "data": {
      "text/plain": [
       "array([[ 4,  2,  1],\n",
       "       [ 9,  3,  1],\n",
       "       [25,  5,  1]])"
      ]
     },
     "execution_count": 15,
     "metadata": {},
     "output_type": "execute_result"
    }
   ],
   "source": [
    "# Créer une matrice de vandermonde à partir d'un vecteur T\n",
    "# Le vecteur sera considéré comme une colonne \n",
    "# La dernière colonne c'est T^0, l'avant dernière c'est T^1 et avant c'est T^2, etc.\n",
    "V = np.vander([2, 3, 5], 3)\n",
    "V"
   ]
  },
  {
   "cell_type": "code",
   "execution_count": 16,
   "id": "3289ed2b",
   "metadata": {},
   "outputs": [
    {
     "data": {
      "text/plain": [
       "array([[1, 2],\n",
       "       [4, 5]])"
      ]
     },
     "execution_count": 16,
     "metadata": {},
     "output_type": "execute_result"
    }
   ],
   "source": [
    "A = np.array([\n",
    "    [1, 2, 3],\n",
    "    [4, 5, 6]\n",
    "])\n",
    "\n",
    "# Lorsqu'on référence une partie d'une matrice, en réalité nous n'avons pas créé une nouvelle matrice\n",
    "# C'est juste une référence vers une partie de la matrice originale\n",
    "# Afin de créer une nouvelle matrice, on utilise la méthode copy()\n",
    "B = A[:, :-1].copy()\n",
    "\n",
    "B"
   ]
  },
  {
   "cell_type": "markdown",
   "id": "74c0b197",
   "metadata": {},
   "source": [
    "## 2. Transformation"
   ]
  },
  {
   "cell_type": "code",
   "execution_count": 17,
   "id": "038eb37d",
   "metadata": {},
   "outputs": [
    {
     "data": {
      "text/plain": [
       "(array([[1, 2, 3],\n",
       "        [4, 5, 6]]),\n",
       " array([[ 7,  8,  9],\n",
       "        [10, 11, 11]]))"
      ]
     },
     "execution_count": 17,
     "metadata": {},
     "output_type": "execute_result"
    }
   ],
   "source": [
    "# On va utiliser deux matrices pour les transformations qui viennent\n",
    "A = np.array([\n",
    "    [1, 2, 3],\n",
    "    [4, 5, 6]\n",
    "])\n",
    "\n",
    "B = np.array([\n",
    "    [7, 8, 9],\n",
    "    [10, 11, 11]\n",
    "])\n",
    "\n",
    "A, B"
   ]
  },
  {
   "cell_type": "code",
   "execution_count": 18,
   "id": "6281dbea",
   "metadata": {},
   "outputs": [
    {
     "data": {
      "text/plain": [
       "array([[ 1,  2,  3],\n",
       "       [ 4,  5,  6],\n",
       "       [ 7,  8,  9],\n",
       "       [10, 11, 11]])"
      ]
     },
     "execution_count": 18,
     "metadata": {},
     "output_type": "execute_result"
    }
   ],
   "source": [
    "# Concaténer les deux matrices sur l'axe 0 (les lignes)\n",
    "# Dans ce cas, le nombre des colonnes des deux matrice doit être identique\n",
    "ABv = np.concatenate((A, B), axis=0)\n",
    "\n",
    "ABv"
   ]
  },
  {
   "cell_type": "code",
   "execution_count": 19,
   "id": "0e941bf6",
   "metadata": {},
   "outputs": [
    {
     "data": {
      "text/plain": [
       "array([[ 1,  2,  3,  7,  8,  9],\n",
       "       [ 4,  5,  6, 10, 11, 11]])"
      ]
     },
     "execution_count": 19,
     "metadata": {},
     "output_type": "execute_result"
    }
   ],
   "source": [
    "# Concaténer les deux matrices sur l'axe 1 (les colonnes)\n",
    "# Dans ce cas, le nombre des lignes des deux matrice doit être identique\n",
    "ABh = np.concatenate((A, B), axis=1)\n",
    "\n",
    "ABh"
   ]
  },
  {
   "cell_type": "markdown",
   "id": "646090d1",
   "metadata": {},
   "source": [
    "## 3. Indexation"
   ]
  },
  {
   "cell_type": "code",
   "execution_count": 20,
   "id": "e6dff132",
   "metadata": {},
   "outputs": [
    {
     "data": {
      "text/plain": [
       "array([[1, 2, 3, 4, 5],\n",
       "       [6, 7, 8, 9, 0]])"
      ]
     },
     "execution_count": 20,
     "metadata": {},
     "output_type": "execute_result"
    }
   ],
   "source": [
    "A = np.array([\n",
    "    [1, 2, 3, 4, 5],\n",
    "    [6, 7, 8, 9, 0]\n",
    "])\n",
    "\n",
    "A"
   ]
  },
  {
   "cell_type": "code",
   "execution_count": 21,
   "id": "c55d471c",
   "metadata": {},
   "outputs": [
    {
     "data": {
      "text/plain": [
       "(2, 5)"
      ]
     },
     "execution_count": 21,
     "metadata": {},
     "output_type": "execute_result"
    }
   ],
   "source": [
    "# Récupérer la forme de la matrice : les dimensions et le nombre des éléments\n",
    "# La forme est un tuple dans Python\n",
    "# Le nombre des éléments dans le tuple indique le nombre des dimensions\n",
    "# Cette matrice a deux dimensions : la première avec 2 éléments et la deuxième avec 5\n",
    "A.shape"
   ]
  },
  {
   "cell_type": "code",
   "execution_count": 22,
   "id": "8a9eee52",
   "metadata": {},
   "outputs": [
    {
     "data": {
      "text/plain": [
       "array([[[1, 2, 5, 5],\n",
       "        [3, 4, 5, 5]],\n",
       "\n",
       "       [[6, 7, 7, 8],\n",
       "        [8, 9, 8, 5]],\n",
       "\n",
       "       [[6, 7, 7, 8],\n",
       "        [8, 9, 8, 5]]])"
      ]
     },
     "execution_count": 22,
     "metadata": {},
     "output_type": "execute_result"
    }
   ],
   "source": [
    "# Prenons un exemple d'une matrice avec  3 dimensions\n",
    "A3 = np.array([\n",
    "    [[1, 2, 5, 5], [3, 4, 5, 5]],\n",
    "    [[6, 7, 7, 8], [8, 9, 8, 5]],\n",
    "    [[6, 7, 7, 8], [8, 9, 8, 5]]\n",
    "])\n",
    "\n",
    "A3"
   ]
  },
  {
   "cell_type": "code",
   "execution_count": 23,
   "id": "68a31ce3",
   "metadata": {},
   "outputs": [
    {
     "data": {
      "text/plain": [
       "(3, 2, 4)"
      ]
     },
     "execution_count": 23,
     "metadata": {},
     "output_type": "execute_result"
    }
   ],
   "source": [
    "# La dimension est 3X2X4\n",
    "A3.shape"
   ]
  },
  {
   "cell_type": "code",
   "execution_count": 24,
   "id": "8350f2ae",
   "metadata": {},
   "outputs": [
    {
     "data": {
      "text/plain": [
       "4"
      ]
     },
     "execution_count": 24,
     "metadata": {},
     "output_type": "execute_result"
    }
   ],
   "source": [
    "# Récupérer le nombre des éléments dans la troisième dimension\n",
    "A3.shape[2]"
   ]
  },
  {
   "cell_type": "code",
   "execution_count": 25,
   "id": "32765a40",
   "metadata": {},
   "outputs": [
    {
     "data": {
      "text/plain": [
       "array([[1, 2, 3, 4, 5],\n",
       "       [6, 7, 8, 9, 0]])"
      ]
     },
     "execution_count": 25,
     "metadata": {},
     "output_type": "execute_result"
    }
   ],
   "source": [
    "A"
   ]
  },
  {
   "cell_type": "code",
   "execution_count": 26,
   "id": "fc657e7b",
   "metadata": {},
   "outputs": [
    {
     "data": {
      "text/plain": [
       "array([[2, 3, 4, 5],\n",
       "       [7, 8, 9, 0]])"
      ]
     },
     "execution_count": 26,
     "metadata": {},
     "output_type": "execute_result"
    }
   ],
   "source": [
    "# toutes les lignes, les colonnes à partir de la deuxième\n",
    "A[:, 1:]"
   ]
  },
  {
   "cell_type": "code",
   "execution_count": 27,
   "id": "19ee562f",
   "metadata": {},
   "outputs": [
    {
     "data": {
      "text/plain": [
       "array([[1, 2, 3, 4],\n",
       "       [6, 7, 8, 9]])"
      ]
     },
     "execution_count": 27,
     "metadata": {},
     "output_type": "execute_result"
    }
   ],
   "source": [
    "# toutes les lignes, les colonnes sauf la dernière\n",
    "A[:, :-1]"
   ]
  },
  {
   "cell_type": "code",
   "execution_count": 28,
   "id": "70159d57",
   "metadata": {},
   "outputs": [
    {
     "data": {
      "text/plain": [
       "array([[5],\n",
       "       [0]])"
      ]
     },
     "execution_count": 28,
     "metadata": {},
     "output_type": "execute_result"
    }
   ],
   "source": [
    "# toutes les lignes, les colonnes sauf la première\n",
    "A[:, -1:]"
   ]
  },
  {
   "cell_type": "code",
   "execution_count": 29,
   "id": "5128a6d1",
   "metadata": {},
   "outputs": [
    {
     "data": {
      "text/plain": [
       "array([[4, 5],\n",
       "       [9, 0]])"
      ]
     },
     "execution_count": 29,
     "metadata": {},
     "output_type": "execute_result"
    }
   ],
   "source": [
    "# toutes les lignes, les colonnes sauf les deux premières\n",
    "A[:, -2:]"
   ]
  },
  {
   "cell_type": "code",
   "execution_count": 30,
   "id": "5f0eb163",
   "metadata": {},
   "outputs": [
    {
     "data": {
      "text/plain": [
       "array([[1, 3],\n",
       "       [6, 8]])"
      ]
     },
     "execution_count": 30,
     "metadata": {},
     "output_type": "execute_result"
    }
   ],
   "source": [
    "# Récupérer les éléments en utilisant un masque \n",
    "# Ici, on veut garder toutes les lignes\n",
    "# Pour les colonnes, on ne veut garder que la première et la troisième\n",
    "mask = [True, False, True, False, False]\n",
    "\n",
    "A[:, mask]"
   ]
  },
  {
   "cell_type": "code",
   "execution_count": 31,
   "id": "e328a355",
   "metadata": {},
   "outputs": [
    {
     "data": {
      "text/plain": [
       "array([[1, 3],\n",
       "       [6, 8]])"
      ]
     },
     "execution_count": 31,
     "metadata": {},
     "output_type": "execute_result"
    }
   ],
   "source": [
    "# La même chose qu'avant mais en indiquant l'indexe de la colonne à garder\n",
    "idx = [0, 2]\n",
    "\n",
    "A[:, idx]"
   ]
  },
  {
   "cell_type": "code",
   "execution_count": 32,
   "id": "a772a9e8",
   "metadata": {},
   "outputs": [
    {
     "data": {
      "text/plain": [
       "(2, 5)"
      ]
     },
     "execution_count": 32,
     "metadata": {},
     "output_type": "execute_result"
    }
   ],
   "source": [
    "A.shape"
   ]
  },
  {
   "cell_type": "code",
   "execution_count": 33,
   "id": "6cc5d2b4",
   "metadata": {},
   "outputs": [
    {
     "data": {
      "text/plain": [
       "array([[[1, 2, 3, 4, 5]],\n",
       "\n",
       "       [[6, 7, 8, 9, 0]]])"
      ]
     },
     "execution_count": 33,
     "metadata": {},
     "output_type": "execute_result"
    }
   ],
   "source": [
    "# Ajouter une autre dimension à une matrice\n",
    "B = A[:, np.newaxis, :]\n",
    "\n",
    "B"
   ]
  },
  {
   "cell_type": "code",
   "execution_count": 34,
   "id": "204afdf9",
   "metadata": {},
   "outputs": [
    {
     "data": {
      "text/plain": [
       "(2, 1, 5)"
      ]
     },
     "execution_count": 34,
     "metadata": {},
     "output_type": "execute_result"
    }
   ],
   "source": [
    "B.shape"
   ]
  },
  {
   "cell_type": "code",
   "execution_count": 35,
   "id": "3e09a4f3",
   "metadata": {},
   "outputs": [
    {
     "data": {
      "text/plain": [
       "array([[1, 2, 6, 8, 2],\n",
       "       [2, 3, 7, 8, 4],\n",
       "       [2, 5, 7, 9, 9]])"
      ]
     },
     "execution_count": 35,
     "metadata": {},
     "output_type": "execute_result"
    }
   ],
   "source": [
    "A = np.array([\n",
    "    [2, 5, 6, 8, 4],\n",
    "    [1, 2, 7, 9, 2],\n",
    "    [2, 3, 7, 8, 9]\n",
    "])\n",
    "\n",
    "# Ordonner les lignes (axis=0) d'une matrice selon la première colonne (si égalité, selon la deuxième, etc.)\n",
    "np.sort(A, axis=0)"
   ]
  },
  {
   "cell_type": "markdown",
   "id": "1d016ba8",
   "metadata": {},
   "source": [
    "## 4. Recherche"
   ]
  },
  {
   "cell_type": "code",
   "execution_count": 36,
   "id": "b2573a37",
   "metadata": {},
   "outputs": [
    {
     "data": {
      "text/plain": [
       "array([[2, 5, 6, 8, 4],\n",
       "       [1, 2, 7, 9, 2],\n",
       "       [2, 3, 7, 8, 9]])"
      ]
     },
     "execution_count": 36,
     "metadata": {},
     "output_type": "execute_result"
    }
   ],
   "source": [
    "A"
   ]
  },
  {
   "cell_type": "code",
   "execution_count": 37,
   "id": "83068f0e",
   "metadata": {},
   "outputs": [
    {
     "data": {
      "text/plain": [
       "array([0, 0, 1, 1, 2])"
      ]
     },
     "execution_count": 37,
     "metadata": {},
     "output_type": "execute_result"
    }
   ],
   "source": [
    "# Trouver l'indice de l'élément max dans les lignes\n",
    "# ça va retourner un vecteur d'une taille égale au nombre des colonnes\n",
    "# chaque élément représente l'indice de la ligne contenant la valeur max\n",
    "np.argmax(A, axis=0)"
   ]
  },
  {
   "cell_type": "code",
   "execution_count": 38,
   "id": "b2bf27e7",
   "metadata": {},
   "outputs": [
    {
     "data": {
      "text/plain": [
       "array([3, 3, 4])"
      ]
     },
     "execution_count": 38,
     "metadata": {},
     "output_type": "execute_result"
    }
   ],
   "source": [
    "# Même chose, mais pour les colonnes\n",
    "np.argmax(A, axis=1)"
   ]
  },
  {
   "cell_type": "code",
   "execution_count": 39,
   "id": "c391ce2a",
   "metadata": {},
   "outputs": [
    {
     "data": {
      "text/plain": [
       "8"
      ]
     },
     "execution_count": 39,
     "metadata": {},
     "output_type": "execute_result"
    }
   ],
   "source": [
    "# Retourne l'indice de l'élément max en considérant la matrice comme étant un vecteur\n",
    "np.argmax(A)"
   ]
  },
  {
   "cell_type": "code",
   "execution_count": 40,
   "id": "825da7d6",
   "metadata": {},
   "outputs": [
    {
     "data": {
      "text/plain": [
       "array([[0, 2],\n",
       "       [0, 3],\n",
       "       [1, 2],\n",
       "       [1, 3],\n",
       "       [2, 2],\n",
       "       [2, 3],\n",
       "       [2, 4]])"
      ]
     },
     "execution_count": 40,
     "metadata": {},
     "output_type": "execute_result"
    }
   ],
   "source": [
    "# Retourner les indices des éléments qui satisfont une condition donnée\n",
    "np.argwhere(A > 5)"
   ]
  },
  {
   "cell_type": "markdown",
   "id": "9ae6972e",
   "metadata": {},
   "source": [
    "## 5. Opérations"
   ]
  },
  {
   "cell_type": "code",
   "execution_count": 41,
   "id": "a68197c8",
   "metadata": {},
   "outputs": [
    {
     "data": {
      "text/plain": [
       "array([[2, 5, 6, 8, 4],\n",
       "       [1, 2, 7, 9, 2],\n",
       "       [2, 3, 7, 8, 9]])"
      ]
     },
     "execution_count": 41,
     "metadata": {},
     "output_type": "execute_result"
    }
   ],
   "source": [
    "A"
   ]
  },
  {
   "cell_type": "code",
   "execution_count": 42,
   "id": "965216c3",
   "metadata": {},
   "outputs": [
    {
     "data": {
      "text/plain": [
       "array([[2, 1, 2],\n",
       "       [5, 2, 3],\n",
       "       [6, 7, 7],\n",
       "       [8, 9, 8],\n",
       "       [4, 2, 9]])"
      ]
     },
     "execution_count": 42,
     "metadata": {},
     "output_type": "execute_result"
    }
   ],
   "source": [
    "# Transposé d'une matrice\n",
    "A.T"
   ]
  },
  {
   "cell_type": "code",
   "execution_count": 43,
   "id": "1e419ed1",
   "metadata": {},
   "outputs": [
    {
     "data": {
      "text/plain": [
       "array([[ 4, 25, 36, 64, 16],\n",
       "       [ 1,  4, 49, 81,  4],\n",
       "       [ 4,  9, 49, 64, 81]])"
      ]
     },
     "execution_count": 43,
     "metadata": {},
     "output_type": "execute_result"
    }
   ],
   "source": [
    "# L'exposant d'une matrice : élément par élément (element-wise)\n",
    "A**2"
   ]
  },
  {
   "cell_type": "code",
   "execution_count": 44,
   "id": "63c61b27",
   "metadata": {},
   "outputs": [
    {
     "data": {
      "text/plain": [
       "array([[ 4, 10, 12, 16,  8],\n",
       "       [ 2,  4, 14, 18,  4],\n",
       "       [ 4,  6, 14, 16, 18]])"
      ]
     },
     "execution_count": 44,
     "metadata": {},
     "output_type": "execute_result"
    }
   ],
   "source": [
    "# Somme de deux matrice : élément par élément\n",
    "# Les deux matrices doivent avoir la même taille\n",
    "A + A"
   ]
  },
  {
   "cell_type": "code",
   "execution_count": 45,
   "id": "52621b94",
   "metadata": {},
   "outputs": [
    {
     "data": {
      "text/plain": [
       "array([[ 4, 10, 12, 16,  8],\n",
       "       [ 2,  4, 14, 18,  4],\n",
       "       [ 4,  6, 14, 16, 18]])"
      ]
     },
     "execution_count": 45,
     "metadata": {},
     "output_type": "execute_result"
    }
   ],
   "source": [
    "# Multiplication d'un scalaire par une matrice :\n",
    "# Chaque élément de la matrice sera multiplié par cet élément\n",
    "2 * A"
   ]
  },
  {
   "cell_type": "code",
   "execution_count": 46,
   "id": "c3d5a22d",
   "metadata": {},
   "outputs": [
    {
     "data": {
      "text/plain": [
       "array([[54, 63],\n",
       "       [40, 56],\n",
       "       [66, 66]])"
      ]
     },
     "execution_count": 46,
     "metadata": {},
     "output_type": "execute_result"
    }
   ],
   "source": [
    "# Multiplication matricielle entre deux matrice : \n",
    "# le nombre des colonnes de la première doit être identique au nombre des lignes de la deuxième\n",
    "B = np.array([\n",
    "    [5, 2],\n",
    "    [2, 3],\n",
    "    [1, 4], \n",
    "    [2, 2],\n",
    "    [3, 1]\n",
    "])\n",
    "A @ B"
   ]
  },
  {
   "cell_type": "markdown",
   "id": "75d68e46",
   "metadata": {},
   "source": [
    "## 6. Fonctions mathématiques"
   ]
  },
  {
   "cell_type": "code",
   "execution_count": 47,
   "id": "7610a535",
   "metadata": {},
   "outputs": [
    {
     "data": {
      "text/plain": [
       "array([[2, 5, 6, 8, 4],\n",
       "       [1, 2, 7, 9, 2],\n",
       "       [2, 3, 7, 8, 9]])"
      ]
     },
     "execution_count": 47,
     "metadata": {},
     "output_type": "execute_result"
    }
   ],
   "source": [
    "A"
   ]
  },
  {
   "cell_type": "code",
   "execution_count": 48,
   "id": "b88419a6",
   "metadata": {},
   "outputs": [
    {
     "data": {
      "text/plain": [
       "array([[7.38905610e+00, 1.48413159e+02, 4.03428793e+02, 2.98095799e+03,\n",
       "        5.45981500e+01],\n",
       "       [2.71828183e+00, 7.38905610e+00, 1.09663316e+03, 8.10308393e+03,\n",
       "        7.38905610e+00],\n",
       "       [7.38905610e+00, 2.00855369e+01, 1.09663316e+03, 2.98095799e+03,\n",
       "        8.10308393e+03]])"
      ]
     },
     "execution_count": 48,
     "metadata": {},
     "output_type": "execute_result"
    }
   ],
   "source": [
    "# expronentiel\n",
    "np.exp(A)"
   ]
  },
  {
   "cell_type": "code",
   "execution_count": 49,
   "id": "3932894b",
   "metadata": {},
   "outputs": [
    {
     "data": {
      "text/plain": [
       "array([[0.69314718, 1.60943791, 1.79175947, 2.07944154, 1.38629436],\n",
       "       [0.        , 0.69314718, 1.94591015, 2.19722458, 0.69314718],\n",
       "       [0.69314718, 1.09861229, 1.94591015, 2.07944154, 2.19722458]])"
      ]
     },
     "execution_count": 49,
     "metadata": {},
     "output_type": "execute_result"
    }
   ],
   "source": [
    "# Logarithme\n",
    "np.log(A)"
   ]
  },
  {
   "cell_type": "code",
   "execution_count": 50,
   "id": "269870f8",
   "metadata": {},
   "outputs": [
    {
     "data": {
      "text/plain": [
       "array([[1.        , 2.32192809, 2.5849625 , 3.        , 2.        ],\n",
       "       [0.        , 1.        , 2.80735492, 3.169925  , 1.        ],\n",
       "       [1.        , 1.5849625 , 2.80735492, 3.        , 3.169925  ]])"
      ]
     },
     "execution_count": 50,
     "metadata": {},
     "output_type": "execute_result"
    }
   ],
   "source": [
    "# Logarithme base 2\n",
    "np.log2(A)"
   ]
  },
  {
   "cell_type": "code",
   "execution_count": 51,
   "id": "d0ac5c01",
   "metadata": {},
   "outputs": [
    {
     "data": {
      "text/plain": [
       "array([[0.30103   , 0.69897   , 0.77815125, 0.90308999, 0.60205999],\n",
       "       [0.        , 0.30103   , 0.84509804, 0.95424251, 0.30103   ],\n",
       "       [0.30103   , 0.47712125, 0.84509804, 0.90308999, 0.95424251]])"
      ]
     },
     "execution_count": 51,
     "metadata": {},
     "output_type": "execute_result"
    }
   ],
   "source": [
    "# Logarithme base 10\n",
    "\n",
    "np.log10(A)"
   ]
  },
  {
   "cell_type": "code",
   "execution_count": 52,
   "id": "a204ac99",
   "metadata": {},
   "outputs": [
    {
     "data": {
      "text/plain": [
       "array([[1.41421356, 2.23606798, 2.44948974, 2.82842712, 2.        ],\n",
       "       [1.        , 1.41421356, 2.64575131, 3.        , 1.41421356],\n",
       "       [1.41421356, 1.73205081, 2.64575131, 2.82842712, 3.        ]])"
      ]
     },
     "execution_count": 52,
     "metadata": {},
     "output_type": "execute_result"
    }
   ],
   "source": [
    "# Racine\n",
    "np.sqrt(A)"
   ]
  },
  {
   "cell_type": "code",
   "execution_count": 53,
   "id": "a3f5dc90",
   "metadata": {},
   "outputs": [
    {
     "data": {
      "text/plain": [
       "array([[2, 5, 6, 8, 4],\n",
       "       [1, 2, 7, 9, 2],\n",
       "       [2, 3, 7, 8, 9]])"
      ]
     },
     "execution_count": 53,
     "metadata": {},
     "output_type": "execute_result"
    }
   ],
   "source": [
    "A"
   ]
  },
  {
   "cell_type": "code",
   "execution_count": 54,
   "id": "9656bd8b",
   "metadata": {},
   "outputs": [
    {
     "data": {
      "text/plain": [
       "75"
      ]
     },
     "execution_count": 54,
     "metadata": {},
     "output_type": "execute_result"
    }
   ],
   "source": [
    "# Somme de tous les éléments d'une matrice\n",
    "A.sum()"
   ]
  },
  {
   "cell_type": "code",
   "execution_count": 55,
   "id": "de3a3211",
   "metadata": {},
   "outputs": [
    {
     "data": {
      "text/plain": [
       "array([ 5, 10, 20, 25, 15])"
      ]
     },
     "execution_count": 55,
     "metadata": {},
     "output_type": "execute_result"
    }
   ],
   "source": [
    "# Somme de tous les ligne d'une matrice\n",
    "# Donne un vecteur de taille égale au nombre des colonnes\n",
    "A.sum(axis=0)"
   ]
  },
  {
   "cell_type": "code",
   "execution_count": 56,
   "id": "8de6f708",
   "metadata": {},
   "outputs": [
    {
     "data": {
      "text/plain": [
       "array([25, 21, 29])"
      ]
     },
     "execution_count": 56,
     "metadata": {},
     "output_type": "execute_result"
    }
   ],
   "source": [
    "# Somme de tous les colonnes d'une matrice\n",
    "# Donne un vecteur de taille égale au nombre des lignes\n",
    "A.sum(axis=1)"
   ]
  },
  {
   "cell_type": "code",
   "execution_count": 57,
   "id": "294eeeef",
   "metadata": {},
   "outputs": [
    {
     "data": {
      "text/plain": [
       "array([1.66666667, 3.33333333, 6.66666667, 8.33333333, 5.        ])"
      ]
     },
     "execution_count": 57,
     "metadata": {},
     "output_type": "execute_result"
    }
   ],
   "source": [
    "# Moyenne de tous les ligne d'une matrice\n",
    "# Donne un vecteur de taille égale au nombre des colonnes\n",
    "A.mean(axis=0)"
   ]
  },
  {
   "cell_type": "code",
   "execution_count": 58,
   "id": "1c5bd6ec",
   "metadata": {},
   "outputs": [
    {
     "data": {
      "text/plain": [
       "array([0.47140452, 1.24721913, 0.47140452, 0.47140452, 2.94392029])"
      ]
     },
     "execution_count": 58,
     "metadata": {},
     "output_type": "execute_result"
    }
   ],
   "source": [
    "# Ecart-type de tous les ligne d'une matrice\n",
    "# Donne un vecteur de taille égale au nombre des colonnes\n",
    "A.std(axis=0)"
   ]
  },
  {
   "cell_type": "code",
   "execution_count": 59,
   "id": "2fec1939",
   "metadata": {},
   "outputs": [
    {
     "data": {
      "text/plain": [
       "array([2, 5, 7, 9, 9])"
      ]
     },
     "execution_count": 59,
     "metadata": {},
     "output_type": "execute_result"
    }
   ],
   "source": [
    "# Max de tous les ligne d'une matrice\n",
    "# Donne un vecteur de taille égale au nombre des colonnes\n",
    "A.max(axis=0)"
   ]
  },
  {
   "cell_type": "code",
   "execution_count": 60,
   "id": "92c9d3b5",
   "metadata": {},
   "outputs": [
    {
     "data": {
      "text/plain": [
       "array([2, 3, 5])"
      ]
     },
     "execution_count": 60,
     "metadata": {},
     "output_type": "execute_result"
    }
   ],
   "source": [
    "V = np.array([5, 2, 5, 3, 5, 2, 2])\n",
    "\n",
    "# Récupérer les éléments sans redoublants\n",
    "np.unique(V)"
   ]
  },
  {
   "cell_type": "markdown",
   "id": "afabf699",
   "metadata": {},
   "source": [
    "## 7. Fonctions logiques"
   ]
  },
  {
   "cell_type": "code",
   "execution_count": 61,
   "id": "88f69848",
   "metadata": {},
   "outputs": [
    {
     "data": {
      "text/plain": [
       "array([[2, 5, 6, 8, 4],\n",
       "       [1, 2, 7, 9, 2],\n",
       "       [2, 3, 7, 8, 9]])"
      ]
     },
     "execution_count": 61,
     "metadata": {},
     "output_type": "execute_result"
    }
   ],
   "source": [
    "A"
   ]
  },
  {
   "cell_type": "code",
   "execution_count": 62,
   "id": "4183e32f",
   "metadata": {},
   "outputs": [
    {
     "data": {
      "text/plain": [
       "array([[False, False,  True,  True, False],\n",
       "       [False, False,  True,  True, False],\n",
       "       [False, False,  True,  True,  True]])"
      ]
     },
     "execution_count": 62,
     "metadata": {},
     "output_type": "execute_result"
    }
   ],
   "source": [
    "# Appliquer une opération logique afin de tester les éléments d'une matrice\n",
    "B = A > 5\n",
    "\n",
    "B"
   ]
  },
  {
   "cell_type": "code",
   "execution_count": 63,
   "id": "91b38900",
   "metadata": {},
   "outputs": [
    {
     "data": {
      "text/plain": [
       "array([[0, 0, 1, 1, 0],\n",
       "       [0, 0, 1, 1, 0],\n",
       "       [0, 0, 1, 1, 1]])"
      ]
     },
     "execution_count": 63,
     "metadata": {},
     "output_type": "execute_result"
    }
   ],
   "source": [
    "# Convertir les éléments booléens vers des entiers\n",
    "B.astype(int)"
   ]
  },
  {
   "cell_type": "code",
   "execution_count": 64,
   "id": "015129da",
   "metadata": {},
   "outputs": [],
   "source": [
    "AA = np.array([False, True, False, True])\n",
    "\n",
    "BB = np.array([False, False, True, True])"
   ]
  },
  {
   "cell_type": "code",
   "execution_count": 65,
   "id": "4ac4fa22",
   "metadata": {},
   "outputs": [
    {
     "data": {
      "text/plain": [
       "array([False, False, False,  True])"
      ]
     },
     "execution_count": 65,
     "metadata": {},
     "output_type": "execute_result"
    }
   ],
   "source": [
    "# Et logique\n",
    "AA & BB"
   ]
  },
  {
   "cell_type": "code",
   "execution_count": 66,
   "id": "f82748a4",
   "metadata": {},
   "outputs": [
    {
     "data": {
      "text/plain": [
       "array([False,  True,  True,  True])"
      ]
     },
     "execution_count": 66,
     "metadata": {},
     "output_type": "execute_result"
    }
   ],
   "source": [
    "# Ou logique\n",
    "AA | BB"
   ]
  },
  {
   "cell_type": "code",
   "execution_count": 67,
   "id": "8994ae59",
   "metadata": {},
   "outputs": [
    {
     "data": {
      "text/plain": [
       "array([ True, False,  True, False])"
      ]
     },
     "execution_count": 67,
     "metadata": {},
     "output_type": "execute_result"
    }
   ],
   "source": [
    "# Non logique\n",
    "np.logical_not(AA)"
   ]
  },
  {
   "cell_type": "code",
   "execution_count": null,
   "id": "b877f8c0",
   "metadata": {},
   "outputs": [],
   "source": []
  }
 ],
 "metadata": {
  "kernelspec": {
   "display_name": "Python 3 (ipykernel)",
   "language": "python",
   "name": "python3"
  },
  "language_info": {
   "codemirror_mode": {
    "name": "ipython",
    "version": 3
   },
   "file_extension": ".py",
   "mimetype": "text/x-python",
   "name": "python",
   "nbconvert_exporter": "python",
   "pygments_lexer": "ipython3",
   "version": "3.8.10"
  }
 },
 "nbformat": 4,
 "nbformat_minor": 5
}
