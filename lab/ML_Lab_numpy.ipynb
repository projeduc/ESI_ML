{
 "cells": [
  {
   "cell_type": "markdown",
   "id": "79ef68c7",
   "metadata": {},
   "source": [
    "# Lab : Outils (Numpy)"
   ]
  },
  {
   "cell_type": "code",
   "execution_count": 1,
   "id": "3eb92ed8",
   "metadata": {},
   "outputs": [],
   "source": [
    "import numpy as np"
   ]
  },
  {
   "cell_type": "markdown",
   "id": "dce9f01f",
   "metadata": {},
   "source": [
    "## I. Représentation des interactions"
   ]
  },
  {
   "cell_type": "code",
   "execution_count": 2,
   "id": "d0786016",
   "metadata": {},
   "outputs": [
    {
     "data": {
      "text/plain": [
       "array([[1, 5, 5, 0, 3],\n",
       "       [2, 0, 5, 0, 3],\n",
       "       [0, 0, 0, 0, 0],\n",
       "       [2, 0, 0, 4, 0],\n",
       "       [0, 4, 2, 0, 0]])"
      ]
     },
     "execution_count": 2,
     "metadata": {},
     "output_type": "execute_result"
    }
   ],
   "source": [
    "Reply = np.array([\n",
    "    [1, 5, 5, 0, 3],\n",
    "    [2, 0, 5, 0, 3],\n",
    "    [0, 0, 0, 0, 0],\n",
    "    [2, 0, 0, 4, 0],\n",
    "    [0, 4, 2, 0, 0]\n",
    "])\n",
    "\n",
    "Reply"
   ]
  },
  {
   "cell_type": "code",
   "execution_count": 3,
   "id": "1baa5c51",
   "metadata": {},
   "outputs": [
    {
     "data": {
      "text/plain": [
       "array([[0, 2, 4, 0, 0],\n",
       "       [0, 0, 0, 0, 0],\n",
       "       [0, 0, 0, 0, 0],\n",
       "       [0, 0, 0, 0, 3],\n",
       "       [0, 2, 5, 0, 0]])"
      ]
     },
     "execution_count": 3,
     "metadata": {},
     "output_type": "execute_result"
    }
   ],
   "source": [
    "Retweet = np.array([\n",
    "    [0, 2, 4, 0, 0],\n",
    "    [0, 0, 0, 0, 0],\n",
    "    [0, 0, 0, 0, 0],\n",
    "    [0, 0, 0, 0, 3],\n",
    "    [0, 2, 5, 0, 0]\n",
    "])\n",
    "\n",
    "Retweet"
   ]
  },
  {
   "cell_type": "code",
   "execution_count": 4,
   "id": "4e651352",
   "metadata": {},
   "outputs": [
    {
     "data": {
      "text/plain": [
       "array([[2, 5, 1, 0, 3],\n",
       "       [0, 0, 0, 0, 0],\n",
       "       [0, 5, 0, 3, 3],\n",
       "       [1, 0, 0, 4, 1],\n",
       "       [0, 0, 9, 0, 0]])"
      ]
     },
     "execution_count": 4,
     "metadata": {},
     "output_type": "execute_result"
    }
   ],
   "source": [
    "Like = np.array([\n",
    "    [2, 5, 1, 0, 3],\n",
    "    [0, 0, 0, 0, 0],\n",
    "    [0, 5, 0, 3, 3],\n",
    "    [1, 0, 0, 4, 1],\n",
    "    [0, 0, 9, 0, 0]\n",
    "])\n",
    "\n",
    "Like"
   ]
  },
  {
   "cell_type": "code",
   "execution_count": 5,
   "id": "dd2fac28",
   "metadata": {},
   "outputs": [
    {
     "data": {
      "text/plain": [
       "array([ 2,  5, 10,  4,  3])"
      ]
     },
     "execution_count": 5,
     "metadata": {},
     "output_type": "execute_result"
    }
   ],
   "source": [
    "Post = np.array([2, 5, 10, 4, 3])\n",
    "\n",
    "Post"
   ]
  },
  {
   "cell_type": "markdown",
   "id": "f8685051",
   "metadata": {},
   "source": [
    "## II. Statistiques d’engagement"
   ]
  },
  {
   "cell_type": "code",
   "execution_count": 6,
   "id": "cc16f29f",
   "metadata": {},
   "outputs": [
    {
     "data": {
      "text/plain": [
       "0"
      ]
     },
     "execution_count": 6,
     "metadata": {},
     "output_type": "execute_result"
    }
   ],
   "source": [
    "# (01) Trouver l'utilisateur qui répond (Reply) plus que les autres\n",
    "reply_out = Reply.sum(axis=1)\n",
    "\n",
    "reply_out.argmax()"
   ]
  },
  {
   "cell_type": "code",
   "execution_count": 7,
   "id": "0013f578",
   "metadata": {},
   "outputs": [
    {
     "data": {
      "text/plain": [
       "4"
      ]
     },
     "execution_count": 7,
     "metadata": {},
     "output_type": "execute_result"
    }
   ],
   "source": [
    "# (02) Trouver l'utilisateur qui partage (Retweet) plus que les autres\n",
    "retweet_out = Retweet.sum(axis=1)\n",
    "\n",
    "retweet_out.argmax()"
   ]
  },
  {
   "cell_type": "code",
   "execution_count": null,
   "id": "3ad26f5d",
   "metadata": {},
   "outputs": [],
   "source": [
    "# (03) Trouver les utilisateurs qui ne répondent pas (Reply) et qui ne partagent pas (Retweet)\n",
    "reply_retweet_out = reply_out + retweet_out\n",
    "\n",
    "reply_retweet_out == 0"
   ]
  },
  {
   "cell_type": "code",
   "execution_count": null,
   "id": "a9ec17d8",
   "metadata": {},
   "outputs": [],
   "source": [
    "# (04-a) Créer une matrice diagonale en utilisant la première dimention de la matrice des Likes\n",
    "\n",
    "I = np.eye(Like.shape[0])\n",
    "\n",
    "I"
   ]
  },
  {
   "cell_type": "code",
   "execution_count": null,
   "id": "069caf4f",
   "metadata": {},
   "outputs": [],
   "source": [
    "# (04-b) Afficher le nombre des Likes que chaque utilisateur fait pour ses propres tweets\n",
    "\n",
    "nbr_self_likes = (I * Like).sum(axis=1)\n",
    "\n",
    "nbr_self_likes"
   ]
  },
  {
   "cell_type": "code",
   "execution_count": null,
   "id": "e850ad7b",
   "metadata": {},
   "outputs": [],
   "source": [
    "# (05) Afficher le nombre des Likes que chaque utilisateur fait pour les tweets autre que les tien\n",
    "\n",
    "like_out = Like.sum(axis=1)\n",
    "\n",
    "nbr_notself_likes = like_out - nbr_self_likes\n",
    "\n",
    "nbr_notself_likes"
   ]
  },
  {
   "cell_type": "code",
   "execution_count": null,
   "id": "43bb1baa",
   "metadata": {},
   "outputs": [],
   "source": [
    "# (06) Trouver les utilisateurs qui aiment leurs propres tweets plus qu'ils aiment les tweets des autres\n",
    "\n",
    "like_more_self = nbr_notself_likes <  nbr_self_likes\n",
    "\n",
    "like_more_self"
   ]
  },
  {
   "cell_type": "code",
   "execution_count": null,
   "id": "4809c340",
   "metadata": {},
   "outputs": [],
   "source": [
    "# (07) Calculer leur nombre\n",
    "\n",
    "like_more_self.astype(int).sum()"
   ]
  },
  {
   "cell_type": "code",
   "execution_count": null,
   "id": "8f245d7e",
   "metadata": {},
   "outputs": [],
   "source": [
    "# (08) Afficher le nombre des interactions que chaque utilisateur a fait\n",
    "\n",
    "reply_retweet_out + like_out"
   ]
  },
  {
   "cell_type": "markdown",
   "id": "a9c0ec41",
   "metadata": {},
   "source": [
    "## III. Statistiques sur les interactions"
   ]
  },
  {
   "cell_type": "code",
   "execution_count": null,
   "id": "f87aef33",
   "metadata": {},
   "outputs": [],
   "source": [
    "# (01) Afficher le max des Likes que chaque utilisateur a reçu\n",
    "\n",
    "max_likes_in = Like.max(axis=0)\n",
    "\n",
    "max_likes_in"
   ]
  },
  {
   "cell_type": "code",
   "execution_count": null,
   "id": "b32f983a",
   "metadata": {},
   "outputs": [],
   "source": [
    "# (02) Trouver les utilisateurs qui ont des likes pour tous leurs tweets au moins par une personne\n",
    "\n",
    "max_likes_in == Post"
   ]
  },
  {
   "cell_type": "code",
   "execution_count": null,
   "id": "199edd7f",
   "metadata": {},
   "outputs": [],
   "source": [
    "# (03) calculer le nombre des arcs entrants (ayant au moins une interaction)\n",
    "\n",
    "in_arcs = ((Reply + Retweet + Like) > 0).astype(int).sum(axis=0)\n",
    "\n",
    "in_arcs"
   ]
  },
  {
   "cell_type": "code",
   "execution_count": null,
   "id": "5b40f86a",
   "metadata": {},
   "outputs": [],
   "source": [
    "# (04) calculer le nombre des arcs sortants (qui ont fait au moins une interaction)\n",
    "out_arcs = ((Reply + Retweet + Like) > 0).astype(int).sum(axis=1)\n",
    "\n",
    "out_arcs"
   ]
  },
  {
   "cell_type": "code",
   "execution_count": null,
   "id": "83d5408d",
   "metadata": {},
   "outputs": [],
   "source": [
    "# (05) Trouver les neouds où le nombre des arcs entrants est égale au nombre de ceux sortants\n",
    "\n",
    "in_more_out = in_arcs == out_arcs\n",
    "\n",
    "in_more_out"
   ]
  },
  {
   "cell_type": "code",
   "execution_count": null,
   "id": "2b0ea405",
   "metadata": {},
   "outputs": [],
   "source": [
    "# (06) Afficher les Likes qu'ils ont fait entre eux\n",
    "\n",
    "Like[:, in_more_out][in_more_out, :]"
   ]
  },
  {
   "cell_type": "markdown",
   "id": "384e532c",
   "metadata": {},
   "source": [
    "## Popularité"
   ]
  },
  {
   "cell_type": "code",
   "execution_count": null,
   "id": "369fa1a9",
   "metadata": {},
   "outputs": [],
   "source": [
    "I1 = 1 - I\n",
    "\n",
    "I1"
   ]
  },
  {
   "cell_type": "code",
   "execution_count": null,
   "id": "5f6a4826",
   "metadata": {},
   "outputs": [],
   "source": [
    "# On ne s'intéresse pas par les interactions réflexives qui sont représentées par la diagonale. \n",
    "\n",
    "Reply2 = Reply * I1\n",
    "Retweet2 = Retweet * I1\n",
    "Like2 = Like * I1\n",
    "\n",
    "Reply2, Retweet2, Like2"
   ]
  },
  {
   "cell_type": "code",
   "execution_count": null,
   "id": "d5a12752",
   "metadata": {},
   "outputs": [],
   "source": [
    "# Pour chaque interaction, \n",
    "# si le nombre des Reply reçus d'une personne est plus que celui des Likes, \n",
    "# on le multiplie par (-0.5). \n",
    "\n",
    "Reply3 = np.where(Reply2 > Like2, Reply2 * (-0.5), np.where(Reply2 == Like2, 0, Reply2) )\n",
    "\n",
    "Reply3"
   ]
  },
  {
   "cell_type": "code",
   "execution_count": null,
   "id": "a0d72d2f",
   "metadata": {},
   "outputs": [],
   "source": [
    "# Pour chaque interaction, \n",
    "# si le nombre des Likes reçus d'une personne est plus que la moitié des tweets publiées, \n",
    "# on le multiplie par (1.5).\n",
    "\n",
    "Post2 = Post/2\n",
    "Post3 = np.ones(Like.shape)\n",
    "Post3 = Post3 * Post2\n",
    "\n",
    "\n",
    "Like3 = np.where(Like2 > Post3, Like2 * 1.5, Like2)\n",
    "Like3"
   ]
  },
  {
   "cell_type": "code",
   "execution_count": null,
   "id": "6477cdd1",
   "metadata": {},
   "outputs": [],
   "source": []
  }
 ],
 "metadata": {
  "kernelspec": {
   "display_name": "Python 3 (ipykernel)",
   "language": "python",
   "name": "python3"
  },
  "language_info": {
   "codemirror_mode": {
    "name": "ipython",
    "version": 3
   },
   "file_extension": ".py",
   "mimetype": "text/x-python",
   "name": "python",
   "nbconvert_exporter": "python",
   "pygments_lexer": "ipython3",
   "version": "3.8.10"
  }
 },
 "nbformat": 4,
 "nbformat_minor": 5
}
